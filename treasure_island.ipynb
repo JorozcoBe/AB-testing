{
  "nbformat": 4,
  "nbformat_minor": 0,
  "metadata": {
    "colab": {
      "name": "treasure island.ipynb",
      "provenance": [],
      "authorship_tag": "ABX9TyPY3GH9b5rmFkqGn6XMGfpM",
      "include_colab_link": true
    },
    "kernelspec": {
      "name": "python3",
      "display_name": "Python 3"
    },
    "language_info": {
      "name": "python"
    }
  },
  "cells": [
    {
      "cell_type": "markdown",
      "metadata": {
        "id": "view-in-github",
        "colab_type": "text"
      },
      "source": [
        "<a href=\"https://colab.research.google.com/github/JorozcoBe/AB-testing/blob/master/treasure_island.ipynb\" target=\"_parent\"><img src=\"https://colab.research.google.com/assets/colab-badge.svg\" alt=\"Open In Colab\"/></a>"
      ]
    },
    {
      "cell_type": "code",
      "metadata": {
        "colab": {
          "base_uri": "https://localhost:8080/"
        },
        "id": "r_HW9VtGMPJW",
        "outputId": "7c47129d-84ef-4fdf-eda4-09ffc639e1ac"
      },
      "source": [
        "from google.colab import drive\n",
        "drive.mount('/content/drive')"
      ],
      "execution_count": null,
      "outputs": [
        {
          "output_type": "stream",
          "name": "stdout",
          "text": [
            "Mounted at /content/drive\n"
          ]
        }
      ]
    },
    {
      "cell_type": "code",
      "metadata": {
        "id": "npIOH7JZMKX-",
        "colab": {
          "base_uri": "https://localhost:8080/"
        },
        "outputId": "c3470d4a-788d-47dd-cce5-d1aff3ffbbd5"
      },
      "source": [
        "import pandas as pd\n",
        "import numpy as np\n",
        "import matplotlib.pyplot as plt \n",
        "import seaborn as sns\n",
        "from sklearn import metrics\n",
        "from sklearn.model_selection import train_test_split\n",
        "from sklearn.metrics import classification_report, confusion_matrix, accuracy_score, roc_auc_score, roc_curve, recall_score\n",
        "from sklearn.model_selection import GridSearchCV, RepeatedStratifiedKFold, RandomizedSearchCV, cross_val_score\n",
        "from sklearn.discriminant_analysis import LinearDiscriminantAnalysis, QuadraticDiscriminantAnalysis\n",
        "from sklearn.neighbors import KNeighborsClassifier\n",
        "from sklearn.tree import DecisionTreeClassifier\n",
        "import xgboost as xgb\n",
        "from xgboost import XGBClassifier\n",
        "from sklearn.linear_model import LogisticRegression\n",
        "from sklearn.naive_bayes import GaussianNB\n",
        "from sklearn.svm import SVC \n",
        "from sklearn.ensemble import RandomForestClassifier,VotingClassifier\n",
        "from imblearn.under_sampling import RandomUnderSampler\n",
        "from imblearn.over_sampling import RandomOverSampler, SMOTE\n",
        "from collections import Counter\n",
        "from pprint import pprint\n",
        "from scipy import stats\n",
        "from sklearn.preprocessing import StandardScaler"
      ],
      "execution_count": null,
      "outputs": [
        {
          "output_type": "stream",
          "name": "stderr",
          "text": [
            "/usr/local/lib/python3.7/dist-packages/sklearn/externals/six.py:31: FutureWarning: The module is deprecated in version 0.21 and will be removed in version 0.23 since we've dropped support for Python 2.7. Please rely on the official version of six (https://pypi.org/project/six/).\n",
            "  \"(https://pypi.org/project/six/).\", FutureWarning)\n",
            "/usr/local/lib/python3.7/dist-packages/sklearn/utils/deprecation.py:144: FutureWarning: The sklearn.neighbors.base module is  deprecated in version 0.22 and will be removed in version 0.24. The corresponding classes / functions should instead be imported from sklearn.neighbors. Anything that cannot be imported from sklearn.neighbors is now part of the private API.\n",
            "  warnings.warn(message, FutureWarning)\n"
          ]
        }
      ]
    },
    {
      "cell_type": "code",
      "metadata": {
        "id": "hhNe9HhiMW1S"
      },
      "source": [
        "df = pd.read_csv(\"/content/drive/MyDrive/treasure_island.csv\")"
      ],
      "execution_count": null,
      "outputs": []
    },
    {
      "cell_type": "code",
      "metadata": {
        "colab": {
          "base_uri": "https://localhost:8080/"
        },
        "id": "3Yg8AOU6EL32",
        "outputId": "07490596-03f8-45cd-99cd-4d2b01095848"
      },
      "source": [
        "df.userid"
      ],
      "execution_count": null,
      "outputs": [
        {
          "output_type": "execute_result",
          "data": {
            "text/plain": [
              "4225009    9\n",
              "3003362    9\n",
              "4231498    9\n",
              "4120964    9\n",
              "4092310    9\n",
              "          ..\n",
              "4016143    1\n",
              "4117886    1\n",
              "4192423    1\n",
              "4110643    1\n",
              "3118494    1\n",
              "Name: userid, Length: 31796, dtype: int64"
            ]
          },
          "metadata": {},
          "execution_count": 5
        }
      ]
    },
    {
      "cell_type": "code",
      "metadata": {
        "id": "WqM2viPYEL_w"
      },
      "source": [
        "pre_data_control = df[(df.receivedMailing == 0) & (df.weeknum < 201903)]"
      ],
      "execution_count": null,
      "outputs": []
    },
    {
      "cell_type": "code",
      "metadata": {
        "colab": {
          "base_uri": "https://localhost:8080/",
          "height": 408
        },
        "id": "Yz7dUeSYEj9A",
        "outputId": "e6a35ef1-bf41-4c5a-afba-70880ad335bc"
      },
      "source": [
        "df[(df.userid)&(df.receivedMailing == 1) ]\n"
      ],
      "execution_count": null,
      "outputs": [
        {
          "output_type": "execute_result",
          "data": {
            "text/html": [
              "<div>\n",
              "<style scoped>\n",
              "    .dataframe tbody tr th:only-of-type {\n",
              "        vertical-align: middle;\n",
              "    }\n",
              "\n",
              "    .dataframe tbody tr th {\n",
              "        vertical-align: top;\n",
              "    }\n",
              "\n",
              "    .dataframe thead th {\n",
              "        text-align: right;\n",
              "    }\n",
              "</style>\n",
              "<table border=\"1\" class=\"dataframe\">\n",
              "  <thead>\n",
              "    <tr style=\"text-align: right;\">\n",
              "      <th></th>\n",
              "      <th>userid</th>\n",
              "      <th>weeknum</th>\n",
              "      <th>educationclass</th>\n",
              "      <th>weekssinceregistration</th>\n",
              "      <th>regularityactivity</th>\n",
              "      <th>logindays</th>\n",
              "      <th>playtime</th>\n",
              "      <th>receivedMailing</th>\n",
              "    </tr>\n",
              "  </thead>\n",
              "  <tbody>\n",
              "    <tr>\n",
              "      <th>1</th>\n",
              "      <td>176325</td>\n",
              "      <td>201902</td>\n",
              "      <td>7</td>\n",
              "      <td>332</td>\n",
              "      <td>inconsistently active</td>\n",
              "      <td>3</td>\n",
              "      <td>5772000</td>\n",
              "      <td>True</td>\n",
              "    </tr>\n",
              "    <tr>\n",
              "      <th>2</th>\n",
              "      <td>176609</td>\n",
              "      <td>201902</td>\n",
              "      <td>8</td>\n",
              "      <td>332</td>\n",
              "      <td>consistently active</td>\n",
              "      <td>6</td>\n",
              "      <td>5395000</td>\n",
              "      <td>True</td>\n",
              "    </tr>\n",
              "    <tr>\n",
              "      <th>10</th>\n",
              "      <td>202675</td>\n",
              "      <td>201902</td>\n",
              "      <td>7</td>\n",
              "      <td>320</td>\n",
              "      <td>consistently active</td>\n",
              "      <td>3</td>\n",
              "      <td>2752000</td>\n",
              "      <td>True</td>\n",
              "    </tr>\n",
              "    <tr>\n",
              "      <th>13</th>\n",
              "      <td>211321</td>\n",
              "      <td>201902</td>\n",
              "      <td>2</td>\n",
              "      <td>312</td>\n",
              "      <td>inconsistently active</td>\n",
              "      <td>1</td>\n",
              "      <td>564000</td>\n",
              "      <td>True</td>\n",
              "    </tr>\n",
              "    <tr>\n",
              "      <th>14</th>\n",
              "      <td>211329</td>\n",
              "      <td>201902</td>\n",
              "      <td>7</td>\n",
              "      <td>312</td>\n",
              "      <td>inconsistently inactive</td>\n",
              "      <td>0</td>\n",
              "      <td>0</td>\n",
              "      <td>True</td>\n",
              "    </tr>\n",
              "    <tr>\n",
              "      <th>...</th>\n",
              "      <td>...</td>\n",
              "      <td>...</td>\n",
              "      <td>...</td>\n",
              "      <td>...</td>\n",
              "      <td>...</td>\n",
              "      <td>...</td>\n",
              "      <td>...</td>\n",
              "      <td>...</td>\n",
              "    </tr>\n",
              "    <tr>\n",
              "      <th>282194</th>\n",
              "      <td>4508561</td>\n",
              "      <td>201910</td>\n",
              "      <td>2</td>\n",
              "      <td>9</td>\n",
              "      <td>inconsistently inactive</td>\n",
              "      <td>0</td>\n",
              "      <td>0</td>\n",
              "      <td>True</td>\n",
              "    </tr>\n",
              "    <tr>\n",
              "      <th>282198</th>\n",
              "      <td>4508677</td>\n",
              "      <td>201910</td>\n",
              "      <td>4</td>\n",
              "      <td>9</td>\n",
              "      <td>inconsistently active</td>\n",
              "      <td>3</td>\n",
              "      <td>3050000</td>\n",
              "      <td>True</td>\n",
              "    </tr>\n",
              "    <tr>\n",
              "      <th>282200</th>\n",
              "      <td>4508725</td>\n",
              "      <td>201910</td>\n",
              "      <td>2</td>\n",
              "      <td>9</td>\n",
              "      <td>consistently active</td>\n",
              "      <td>5</td>\n",
              "      <td>5973000</td>\n",
              "      <td>True</td>\n",
              "    </tr>\n",
              "    <tr>\n",
              "      <th>282203</th>\n",
              "      <td>4508793</td>\n",
              "      <td>201910</td>\n",
              "      <td>7</td>\n",
              "      <td>9</td>\n",
              "      <td>inconsistently active</td>\n",
              "      <td>4</td>\n",
              "      <td>4659000</td>\n",
              "      <td>True</td>\n",
              "    </tr>\n",
              "    <tr>\n",
              "      <th>282210</th>\n",
              "      <td>4508891</td>\n",
              "      <td>201910</td>\n",
              "      <td>3</td>\n",
              "      <td>9</td>\n",
              "      <td>inconsistently inactive</td>\n",
              "      <td>0</td>\n",
              "      <td>0</td>\n",
              "      <td>True</td>\n",
              "    </tr>\n",
              "  </tbody>\n",
              "</table>\n",
              "<p>93258 rows × 8 columns</p>\n",
              "</div>"
            ],
            "text/plain": [
              "         userid  weeknum  educationclass  ...  logindays playtime  receivedMailing\n",
              "1        176325   201902               7  ...          3  5772000             True\n",
              "2        176609   201902               8  ...          6  5395000             True\n",
              "10       202675   201902               7  ...          3  2752000             True\n",
              "13       211321   201902               2  ...          1   564000             True\n",
              "14       211329   201902               7  ...          0        0             True\n",
              "...         ...      ...             ...  ...        ...      ...              ...\n",
              "282194  4508561   201910               2  ...          0        0             True\n",
              "282198  4508677   201910               4  ...          3  3050000             True\n",
              "282200  4508725   201910               2  ...          5  5973000             True\n",
              "282203  4508793   201910               7  ...          4  4659000             True\n",
              "282210  4508891   201910               3  ...          0        0             True\n",
              "\n",
              "[93258 rows x 8 columns]"
            ]
          },
          "metadata": {},
          "execution_count": 8
        }
      ]
    },
    {
      "cell_type": "code",
      "metadata": {
        "colab": {
          "base_uri": "https://localhost:8080/",
          "height": 200
        },
        "id": "XQfFKLhEPefX",
        "outputId": "d8d38720-059f-47dc-c7ff-95856b08cef7"
      },
      "source": [
        "df.head()"
      ],
      "execution_count": null,
      "outputs": [
        {
          "output_type": "execute_result",
          "data": {
            "text/html": [
              "<div>\n",
              "<style scoped>\n",
              "    .dataframe tbody tr th:only-of-type {\n",
              "        vertical-align: middle;\n",
              "    }\n",
              "\n",
              "    .dataframe tbody tr th {\n",
              "        vertical-align: top;\n",
              "    }\n",
              "\n",
              "    .dataframe thead th {\n",
              "        text-align: right;\n",
              "    }\n",
              "</style>\n",
              "<table border=\"1\" class=\"dataframe\">\n",
              "  <thead>\n",
              "    <tr style=\"text-align: right;\">\n",
              "      <th></th>\n",
              "      <th>userid</th>\n",
              "      <th>weeknum</th>\n",
              "      <th>educationclass</th>\n",
              "      <th>weekssinceregistration</th>\n",
              "      <th>regularityactivity</th>\n",
              "      <th>logindays</th>\n",
              "      <th>playtime</th>\n",
              "      <th>receivedMailing</th>\n",
              "    </tr>\n",
              "  </thead>\n",
              "  <tbody>\n",
              "    <tr>\n",
              "      <th>0</th>\n",
              "      <td>174008</td>\n",
              "      <td>201902</td>\n",
              "      <td>7</td>\n",
              "      <td>333</td>\n",
              "      <td>consistently inactive</td>\n",
              "      <td>0</td>\n",
              "      <td>0</td>\n",
              "      <td>True</td>\n",
              "    </tr>\n",
              "    <tr>\n",
              "      <th>1</th>\n",
              "      <td>176325</td>\n",
              "      <td>201902</td>\n",
              "      <td>7</td>\n",
              "      <td>332</td>\n",
              "      <td>inconsistently active</td>\n",
              "      <td>3</td>\n",
              "      <td>5772000</td>\n",
              "      <td>True</td>\n",
              "    </tr>\n",
              "    <tr>\n",
              "      <th>2</th>\n",
              "      <td>176609</td>\n",
              "      <td>201902</td>\n",
              "      <td>8</td>\n",
              "      <td>332</td>\n",
              "      <td>consistently active</td>\n",
              "      <td>6</td>\n",
              "      <td>5395000</td>\n",
              "      <td>True</td>\n",
              "    </tr>\n",
              "    <tr>\n",
              "      <th>3</th>\n",
              "      <td>182218</td>\n",
              "      <td>201902</td>\n",
              "      <td>8</td>\n",
              "      <td>331</td>\n",
              "      <td>consistently inactive</td>\n",
              "      <td>0</td>\n",
              "      <td>0</td>\n",
              "      <td>True</td>\n",
              "    </tr>\n",
              "    <tr>\n",
              "      <th>4</th>\n",
              "      <td>182226</td>\n",
              "      <td>201902</td>\n",
              "      <td>6</td>\n",
              "      <td>331</td>\n",
              "      <td>consistently active</td>\n",
              "      <td>2</td>\n",
              "      <td>1401000</td>\n",
              "      <td>True</td>\n",
              "    </tr>\n",
              "  </tbody>\n",
              "</table>\n",
              "</div>"
            ],
            "text/plain": [
              "   userid  weeknum  educationclass  ...  logindays playtime  receivedMailing\n",
              "0  174008   201902               7  ...          0        0             True\n",
              "1  176325   201902               7  ...          3  5772000             True\n",
              "2  176609   201902               8  ...          6  5395000             True\n",
              "3  182218   201902               8  ...          0        0             True\n",
              "4  182226   201902               6  ...          2  1401000             True\n",
              "\n",
              "[5 rows x 8 columns]"
            ]
          },
          "metadata": {},
          "execution_count": 4
        }
      ]
    },
    {
      "cell_type": "code",
      "metadata": {
        "colab": {
          "base_uri": "https://localhost:8080/"
        },
        "id": "clUDBo4WP-0r",
        "outputId": "a9cdcc25-45c5-48b8-a83f-89cbf2602283"
      },
      "source": [
        "df.astype"
      ],
      "execution_count": null,
      "outputs": [
        {
          "output_type": "execute_result",
          "data": {
            "text/plain": [
              "<bound method NDFrame.astype of          userid  weeknum  educationclass  ...  logindays playtime  receivedMailing\n",
              "0        174008   201902               7  ...          0        0             True\n",
              "1        176325   201902               7  ...          3  5772000             True\n",
              "2        176609   201902               8  ...          6  5395000             True\n",
              "3        182218   201902               8  ...          0        0             True\n",
              "4        182226   201902               6  ...          2  1401000             True\n",
              "...         ...      ...             ...  ...        ...      ...              ...\n",
              "282206  4508822   201910               3  ...          0        0            False\n",
              "282207  4508832   201910               8  ...          0        0             True\n",
              "282208  4508846   201910               4  ...          1        0             True\n",
              "282209  4508867   201910               5  ...          3   372000            False\n",
              "282210  4508891   201910               3  ...          0        0             True\n",
              "\n",
              "[282211 rows x 8 columns]>"
            ]
          },
          "metadata": {
            "tags": []
          },
          "execution_count": 7
        }
      ]
    },
    {
      "cell_type": "code",
      "metadata": {
        "colab": {
          "base_uri": "https://localhost:8080/"
        },
        "id": "VoyYepc6RZsQ",
        "outputId": "245b93ab-ca5c-4f99-e9c8-72425ee44c9b"
      },
      "source": [
        "#df.dtype\n",
        "df.dtypes"
      ],
      "execution_count": null,
      "outputs": [
        {
          "output_type": "execute_result",
          "data": {
            "text/plain": [
              "userid                     int64\n",
              "weeknum                    int64\n",
              "educationclass             int64\n",
              "weekssinceregistration     int64\n",
              "regularityactivity        object\n",
              "logindays                  int64\n",
              "playtime                   int64\n",
              "receivedMailing             bool\n",
              "dtype: object"
            ]
          },
          "metadata": {
            "tags": []
          },
          "execution_count": 8
        }
      ]
    },
    {
      "cell_type": "code",
      "metadata": {
        "colab": {
          "base_uri": "https://localhost:8080/"
        },
        "id": "S6D7RAgzSSzn",
        "outputId": "c6ac6990-7e34-4cea-b7de-dd42e9b261ec"
      },
      "source": [
        "df.isnull().sum()"
      ],
      "execution_count": null,
      "outputs": [
        {
          "output_type": "execute_result",
          "data": {
            "text/plain": [
              "userid                    0\n",
              "weeknum                   0\n",
              "educationclass            0\n",
              "weekssinceregistration    0\n",
              "regularityactivity        0\n",
              "logindays                 0\n",
              "playtime                  0\n",
              "receivedMailing           0\n",
              "dtype: int64"
            ]
          },
          "metadata": {
            "tags": []
          },
          "execution_count": 9
        }
      ]
    },
    {
      "cell_type": "code",
      "metadata": {
        "colab": {
          "base_uri": "https://localhost:8080/"
        },
        "id": "LvrBEMYxSxg8",
        "outputId": "1dca1cb8-7375-4d26-caf9-3253b594750c"
      },
      "source": [
        "df.shape"
      ],
      "execution_count": null,
      "outputs": [
        {
          "output_type": "execute_result",
          "data": {
            "text/plain": [
              "(282211, 8)"
            ]
          },
          "metadata": {
            "tags": []
          },
          "execution_count": 10
        }
      ]
    },
    {
      "cell_type": "code",
      "metadata": {
        "colab": {
          "base_uri": "https://localhost:8080/"
        },
        "id": "LYJex3YHvmZ-",
        "outputId": "d1bad478-e5b9-4dd9-c8cb-722f65d11843"
      },
      "source": [
        "df.weeknum.value_counts()"
      ],
      "execution_count": null,
      "outputs": [
        {
          "output_type": "execute_result",
          "data": {
            "text/plain": [
              "201902    31697\n",
              "201903    31652\n",
              "201904    31555\n",
              "201905    31435\n",
              "201906    31354\n",
              "201907    31259\n",
              "201908    31141\n",
              "201909    31087\n",
              "201910    31031\n",
              "Name: weeknum, dtype: int64"
            ]
          },
          "metadata": {},
          "execution_count": 4
        }
      ]
    },
    {
      "cell_type": "code",
      "metadata": {
        "id": "YVDiaQk5g3XM"
      },
      "source": [
        "df[\"receivedMailing\"] = df[\"receivedMailing\"].map({True:1, False:0})"
      ],
      "execution_count": null,
      "outputs": []
    },
    {
      "cell_type": "code",
      "metadata": {
        "colab": {
          "base_uri": "https://localhost:8080/"
        },
        "id": "h0eH7coeqm46",
        "outputId": "b4ee3ea6-ef16-45ba-aec9-0fad6094da11"
      },
      "source": [
        "df.receivedMailing.value_counts()"
      ],
      "execution_count": null,
      "outputs": [
        {
          "output_type": "execute_result",
          "data": {
            "text/plain": [
              "1    188122\n",
              "0     94089\n",
              "Name: receivedMailing, dtype: int64"
            ]
          },
          "metadata": {
            "tags": []
          },
          "execution_count": 13
        }
      ]
    },
    {
      "cell_type": "markdown",
      "metadata": {
        "id": "EMPPkiAFuVcs"
      },
      "source": [
        "Creating the subsets (pre/post control/exp and first week control and exp) \n"
      ]
    },
    {
      "cell_type": "code",
      "metadata": {
        "id": "fBAEq0SxLd9C"
      },
      "source": [
        "pre_data_control = df[(df.receivedMailing == 0) & (df.weeknum < 201903)]"
      ],
      "execution_count": null,
      "outputs": []
    },
    {
      "cell_type": "code",
      "metadata": {
        "id": "nro06ROy1CP_"
      },
      "source": [
        "pre_data_control_1= pre_data_control.values"
      ],
      "execution_count": null,
      "outputs": []
    },
    {
      "cell_type": "code",
      "metadata": {
        "id": "XKsAyZJh3TCy"
      },
      "source": [
        "#xxx= np.shape(pre_data_control_1)[0]\n",
        "#mylist=[pre_data_control, ]\n",
        "#xx = []\n",
        "#for i in mylist:\n",
        "#  xx.append(np.shape(i)[0])"
      ],
      "execution_count": null,
      "outputs": []
    },
    {
      "cell_type": "code",
      "metadata": {
        "id": "CZIBibiLO_C-"
      },
      "source": [
        "post_data_control = df[(df.receivedMailing == 0) & (df.weeknum >= 201903)]"
      ],
      "execution_count": null,
      "outputs": []
    },
    {
      "cell_type": "code",
      "metadata": {
        "id": "bT9Uiw8y7mlI"
      },
      "source": [
        "post_data_control_1 =post_data_control.values"
      ],
      "execution_count": null,
      "outputs": []
    },
    {
      "cell_type": "code",
      "metadata": {
        "id": "1I2FDdGZQLxr"
      },
      "source": [
        "pre_data_exp = df[(df.receivedMailing == 1) & (df.weeknum < 201903)]"
      ],
      "execution_count": null,
      "outputs": []
    },
    {
      "cell_type": "code",
      "metadata": {
        "id": "gbBAu-aC7uXw"
      },
      "source": [
        "pre_data_exp_1 = pre_data_exp.values"
      ],
      "execution_count": null,
      "outputs": []
    },
    {
      "cell_type": "code",
      "metadata": {
        "id": "IG6m1QPZQ1sY"
      },
      "source": [
        "post_data_exp = df[(df.receivedMailing == 1) & (df.weeknum >= 201903)]"
      ],
      "execution_count": null,
      "outputs": []
    },
    {
      "cell_type": "code",
      "metadata": {
        "id": "dMzIogV77yzk"
      },
      "source": [
        "post_data_exp_1= post_data_exp.values"
      ],
      "execution_count": null,
      "outputs": []
    },
    {
      "cell_type": "code",
      "metadata": {
        "id": "etcT98C8RUXS"
      },
      "source": [
        "first_week_control = df[(df.receivedMailing == 0) & (df.weeknum == 201903)]"
      ],
      "execution_count": null,
      "outputs": []
    },
    {
      "cell_type": "code",
      "metadata": {
        "id": "0jBfZLSX77BQ"
      },
      "source": [
        "first_week_control_1 = first_week_control.values"
      ],
      "execution_count": null,
      "outputs": []
    },
    {
      "cell_type": "code",
      "metadata": {
        "id": "IVs0xMGLR52p"
      },
      "source": [
        "first_week_exp = df[(df.receivedMailing == 1) & (df.weeknum == 201903)]"
      ],
      "execution_count": null,
      "outputs": []
    },
    {
      "cell_type": "code",
      "metadata": {
        "id": "siUle93f7_jH"
      },
      "source": [
        "first_week_exp_1 = first_week_exp.values"
      ],
      "execution_count": null,
      "outputs": []
    },
    {
      "cell_type": "markdown",
      "metadata": {
        "id": "zN2MgtysSXdQ"
      },
      "source": [
        "Calculating the n for the analysis "
      ]
    },
    {
      "cell_type": "code",
      "metadata": {
        "id": "fkXalFkP8HOq"
      },
      "source": [
        "#xxx= np.shape(pre_data_control_1)[0]\n",
        "mylist=[pre_data_control_1, post_data_control_1, pre_data_exp_1, post_data_exp_1, first_week_control_1, first_week_exp_1]\n",
        "xx = []\n",
        "for i in mylist:\n",
        "  xx.append(np.shape(i)[0])\n",
        "  "
      ],
      "execution_count": null,
      "outputs": []
    },
    {
      "cell_type": "code",
      "metadata": {
        "id": "dGEQh6MvDCPB"
      },
      "source": [
        "#xxx= np.shape(pre_data_control_1)[0]"
      ],
      "execution_count": null,
      "outputs": []
    },
    {
      "cell_type": "code",
      "metadata": {
        "id": "isrlua5bDRum"
      },
      "source": [
        "mylist"
      ],
      "execution_count": null,
      "outputs": []
    },
    {
      "cell_type": "code",
      "metadata": {
        "colab": {
          "base_uri": "https://localhost:8080/"
        },
        "id": "eciC3Me0Da9m",
        "outputId": "6a4cdafc-adce-484a-844a-12ccbcb2b0da"
      },
      "source": [
        "xx"
      ],
      "execution_count": null,
      "outputs": [
        {
          "output_type": "execute_result",
          "data": {
            "text/plain": [
              "[10560, 83529, 21137, 166985, 10550, 21102]"
            ]
          },
          "metadata": {},
          "execution_count": 19
        }
      ]
    },
    {
      "cell_type": "code",
      "metadata": {
        "colab": {
          "base_uri": "https://localhost:8080/"
        },
        "id": "HZEYLiO_Dmmm",
        "outputId": "a47959d0-6a6c-4b25-bbe0-d11bd4e1472a"
      },
      "source": [
        "#keys = ['a', 'b', 'c']\n",
        "#values = [1, 2, 3]\n",
        "\n",
        "#print(dictionary) # {'a': 1, 'b': 2, 'c': 3}\n",
        "\n",
        "\n",
        "keys = [\"pre_data_control_2\", \"post_data_control_2\", \"pre_data_exp_2\", \"post_data_exp_2\", \"first_week_control_2\", \"first_week_exp_2\"]\n",
        "dictionary = dict(zip(keys, xx))\n",
        "print(dictionary)"
      ],
      "execution_count": null,
      "outputs": [
        {
          "output_type": "stream",
          "name": "stdout",
          "text": [
            "{'pre_data_control_2': 10560, 'post_data_control_2': 83529, 'pre_data_exp_2': 21137, 'post_data_exp_2': 166985, 'first_week_control_2': 10550, 'first_week_exp_2': 21102}\n"
          ]
        }
      ]
    },
    {
      "cell_type": "code",
      "metadata": {
        "id": "CBcJh9wzuZhL"
      },
      "source": [
        "thisdict = {\n",
        "  \"brand\": \"Ford\",\n",
        "  \"model\": \"Mustang\",\n",
        "  \"year\": 1964\n",
        "}\n",
        "x = thisdict[\"model\"]"
      ],
      "execution_count": null,
      "outputs": []
    },
    {
      "cell_type": "code",
      "metadata": {
        "colab": {
          "base_uri": "https://localhost:8080/",
          "height": 35
        },
        "id": "WHr0IwBbubzO",
        "outputId": "758f10fb-47a4-4643-fe97-974ea87d9284"
      },
      "source": [
        "x"
      ],
      "execution_count": null,
      "outputs": [
        {
          "output_type": "execute_result",
          "data": {
            "application/vnd.google.colaboratory.intrinsic+json": {
              "type": "string"
            },
            "text/plain": [
              "'Mustang'"
            ]
          },
          "metadata": {},
          "execution_count": 23
        }
      ]
    },
    {
      "cell_type": "markdown",
      "metadata": {
        "id": "PvnWs8zCIVik"
      },
      "source": [
        "Calculate inactive users/ counting \n"
      ]
    },
    {
      "cell_type": "code",
      "metadata": {
        "id": "3jJntppPIAq5"
      },
      "source": [
        "#xxx= np.shape(pre_data_control_1)[0]"
      ],
      "execution_count": null,
      "outputs": []
    },
    {
      "cell_type": "code",
      "metadata": {
        "colab": {
          "base_uri": "https://localhost:8080/"
        },
        "id": "gXVfbpbuK4ho",
        "outputId": "f0ba42df-843e-4374-f74f-3ebb80a5c3c3"
      },
      "source": [
        "pre_inactive_control = 0\n",
        "#print(pre_data_control_1[3,4])\n",
        "for i in pre_data_control_1[:,4]:\n",
        "  if i == \"consistently inactive\":\n",
        "    pre_inactive_control = pre_inactive_control + 1\n",
        "\n",
        "print(pre_inactive_control)\n"
      ],
      "execution_count": null,
      "outputs": [
        {
          "output_type": "stream",
          "name": "stdout",
          "text": [
            "1252\n"
          ]
        }
      ]
    },
    {
      "cell_type": "code",
      "metadata": {
        "id": "u_jRP-H3JcK1"
      },
      "source": [
        "#post_data_control = 0\n",
        "#print(pre_data_control_1[3,4])\n",
        "#for i in post_data_control_1[:,4]:\n",
        "#  if i == \"consistently inactive\":\n",
        "#    counter_post_data_control = counter_post_data_control + 1\n",
        "\n",
        "#print(counter_post_data_control)"
      ],
      "execution_count": null,
      "outputs": []
    },
    {
      "cell_type": "code",
      "metadata": {
        "colab": {
          "base_uri": "https://localhost:8080/"
        },
        "id": "0KW8Kf_TKErd",
        "outputId": "366304d4-2adb-4571-c8a8-bd34fc1e41be"
      },
      "source": [
        "pre_inactive_exp = 0\n",
        "#print(pre_data_control_1[3,4])\n",
        "for i in pre_data_exp_1[:,4]:\n",
        "  if i == \"consistently inactive\":\n",
        "    pre_inactive_exp = pre_inactive_exp + 1\n",
        "\n",
        "print(pre_inactive_exp)"
      ],
      "execution_count": null,
      "outputs": [
        {
          "output_type": "stream",
          "name": "stdout",
          "text": [
            "2492\n"
          ]
        }
      ]
    },
    {
      "cell_type": "code",
      "metadata": {
        "id": "Vxd2qOR5MCnC"
      },
      "source": [
        "#counter_post_data_exp = 0\n",
        "#print(pre_data_control_1[3,4])\n",
        "#for i in post_data_exp_1[:,4]:\n",
        "#  if i == \"consistently inactive\":\n",
        "#    counter_post_data_exp = counter_post_data_exp + 1\n",
        "\n",
        "#print(counter_post_data_exp)"
      ],
      "execution_count": null,
      "outputs": []
    },
    {
      "cell_type": "code",
      "metadata": {
        "colab": {
          "base_uri": "https://localhost:8080/"
        },
        "id": "rHf6_ATLMk6E",
        "outputId": "e99d630e-4c0e-4112-fcf6-3e5d3e077b92"
      },
      "source": [
        "first_inactive_control = 0\n",
        "#print(pre_data_control_1[3,4])\n",
        "for i in first_week_control_1[:,4]:\n",
        "  if i == \"consistently inactive\":\n",
        "    first_inactive_control = first_inactive_control + 1\n",
        "\n",
        "print(first_inactive_control)"
      ],
      "execution_count": null,
      "outputs": [
        {
          "output_type": "stream",
          "name": "stdout",
          "text": [
            "1212\n"
          ]
        }
      ]
    },
    {
      "cell_type": "code",
      "metadata": {
        "colab": {
          "base_uri": "https://localhost:8080/"
        },
        "id": "4cx_xMGKPup6",
        "outputId": "35d197f9-5d72-4af9-d47e-398d466175fe"
      },
      "source": [
        "first_inactive_exp = 0\n",
        "#print(pre_data_control_1[3,4])\n",
        "for i in first_week_exp_1[:,4]:\n",
        "  if i == \"consistently inactive\":\n",
        "    first_inactive_exp = first_inactive_exp + 1\n",
        "\n",
        "print(first_inactive_exp)\n",
        "\n",
        "\n",
        "###this is 80% of the pre-processing, I'm thinking that it may be needed to also create another dictionary\n",
        "###but I can also not need it, i may need to create matrices so i can put them into my prop Z test"
      ],
      "execution_count": null,
      "outputs": [
        {
          "output_type": "stream",
          "name": "stdout",
          "text": [
            "2048\n"
          ]
        }
      ]
    },
    {
      "cell_type": "code",
      "metadata": {
        "colab": {
          "base_uri": "https://localhost:8080/"
        },
        "id": "_6Mr06EAJpob",
        "outputId": "4ad276e8-7a70-4c87-96ff-d9c340c031de"
      },
      "source": [
        "#import numpy as np\n",
        "#from statsmodels.stats.proportion import proportions_ztest\n",
        "#count = np.array([5, 12])\n",
        "#nobs = np.array([83, 99])\n",
        "#stat, pval = proportions_ztest(count, nobs)\n",
        "#print('{0:0.3f}'.format(pval))\n",
        "#0.159\n",
        "#print(stat)"
      ],
      "execution_count": null,
      "outputs": [
        {
          "output_type": "stream",
          "name": "stdout",
          "text": [
            "-1.4078304151258787\n"
          ]
        }
      ]
    },
    {
      "cell_type": "markdown",
      "metadata": {
        "id": "9NmYw2OHRqLZ"
      },
      "source": [
        "Generating matrices for analysis\n"
      ]
    },
    {
      "cell_type": "code",
      "metadata": {
        "id": "nQzD4z8nXbZx"
      },
      "source": [
        "#df.value_counts()"
      ],
      "execution_count": null,
      "outputs": []
    },
    {
      "cell_type": "code",
      "metadata": {
        "id": "BgoPDHr4SOy1",
        "colab": {
          "base_uri": "https://localhost:8080/"
        },
        "outputId": "30ddade1-b008-4201-c602-db7003b7b884"
      },
      "source": [
        "import numpy as np\n",
        "from statsmodels.stats.proportion import proportions_ztest\n",
        "\n",
        "##this is for first_week_matrix \n",
        "\n",
        "count = np.array([1212, 2048])\n",
        "nobs = np.array([9338, 19054])\n",
        "stat, pval = proportions_ztest(count, nobs)\n",
        "#print('{0:0.3f}'.format(pval))\n",
        "#0.159\n",
        "print(pval)"
      ],
      "execution_count": null,
      "outputs": [
        {
          "output_type": "stream",
          "name": "stdout",
          "text": [
            "3.0354209146430396e-08\n"
          ]
        },
        {
          "output_type": "stream",
          "name": "stderr",
          "text": [
            "/usr/local/lib/python3.7/dist-packages/statsmodels/tools/_testing.py:19: FutureWarning: pandas.util.testing is deprecated. Use the functions in the public API at pandas.testing instead.\n",
            "  import pandas.util.testing as tm\n"
          ]
        }
      ]
    },
    {
      "cell_type": "code",
      "metadata": {
        "id": "TrxZfJi7SPO-",
        "colab": {
          "base_uri": "https://localhost:8080/"
        },
        "outputId": "f6bbbf7c-fbca-49c3-c2c1-749c92512cd6"
      },
      "source": [
        "import numpy as np\n",
        "from statsmodels.stats.proportion import proportions_ztest\n",
        "\n",
        "##this is for control matrix\n",
        "\n",
        "count = np.array([1252, 1212])\n",
        "nobs = np.array([9308, 9338])\n",
        "stat, pval = proportions_ztest(count, nobs)\n",
        "#print('{0:0.3f}'.format(pval))\n",
        "#0.159\n",
        "print(pval)"
      ],
      "execution_count": null,
      "outputs": [
        {
          "output_type": "stream",
          "name": "stdout",
          "text": [
            "0.34174056904123407\n"
          ]
        }
      ]
    },
    {
      "cell_type": "code",
      "metadata": {
        "colab": {
          "base_uri": "https://localhost:8080/"
        },
        "id": "syYf45UYCRyn",
        "outputId": "6eb23db4-cdd1-41ba-cbbc-789993549ad4"
      },
      "source": [
        "import numpy as np\n",
        "from statsmodels.stats.proportion import proportions_ztest\n",
        "\n",
        "##this is for exp matrix\n",
        "\n",
        "count = np.array([2492, 2048])\n",
        "nobs = np.array([18645, 19054])\n",
        "stat, pval = proportions_ztest(count, nobs)\n",
        "#print('{0:0.3f}'.format(pval))\n",
        "#0.159\n",
        "print(pval)"
      ],
      "execution_count": null,
      "outputs": [
        {
          "output_type": "stream",
          "name": "stdout",
          "text": [
            "5.899215653367747e-15\n"
          ]
        }
      ]
    },
    {
      "cell_type": "code",
      "metadata": {
        "id": "VcdqND4n3ypz"
      },
      "source": [
        "# Creating dataframe with\n",
        "# some missing values\n",
        "#NaN = np.nan\n",
        "#dataframe = pd.DataFrame({'Name': ['Shobhit', 'Vaibhav',\n",
        "#\t\t\t\t\t\t\t\t'Vimal', 'Sourabh',\n",
        "#\t\t\t\t\t\t\t\t'Rahul', 'Shobhit'],\n",
        "#\t\t\t\t\t\t'Physics': [11, 12, 13, 14, NaN, 11],\n",
        "#\t\t\t\t\t\t'Chemistry': [10, 14, NaN, 18, 20, 10],\n",
        "#\t\t\t\t\t\t'Math': [13, 10, 15, NaN, NaN, 13]})\n",
        "\n",
        "#display(dataframe)\n"
      ],
      "execution_count": null,
      "outputs": []
    },
    {
      "cell_type": "code",
      "metadata": {
        "id": "r8JchizB5GR3"
      },
      "source": [
        "# count of student with greater\n",
        "# than 11 marks in physics\n",
        "#print(\"Count of students with physics marks greater than 11 is->\",\n",
        "#data_count_ie = dataframe[dataframe['Physics'] > 11]['Name'].count()\n",
        "\n",
        "# resultant of above dataframe\n",
        "#dataframe_ie = dataframe[dataframe['Physics']>11]\n"
      ],
      "execution_count": null,
      "outputs": []
    },
    {
      "cell_type": "code",
      "metadata": {
        "id": "G1sPtd3dXjTN"
      },
      "source": [
        "#pre_control_n = pre_data_control.count()\n",
        "#pre_control_n\n",
        "#pre_control_n = df[(df.receivedMailing == 0) & (df.weeknum < 201903)].count()\n",
        "#print(pre_control_n)\n"
      ],
      "execution_count": null,
      "outputs": []
    },
    {
      "cell_type": "markdown",
      "metadata": {
        "id": "QBNjJZkkMVXd"
      },
      "source": [
        "Question 2\n",
        "####--- SECOND QUESTION ---#####\n",
        "\n",
        "### First, we select the week post intervention and group the number of inactive users per week in order to plot\n",
        "### the percentages and analyze the sustain effect"
      ]
    },
    {
      "cell_type": "code",
      "metadata": {
        "id": "M8chyxKz5-Oy"
      },
      "source": [
        "#post_data_exp_1"
      ],
      "execution_count": null,
      "outputs": []
    },
    {
      "cell_type": "code",
      "metadata": {
        "id": "MjQAcg_4QlMo"
      },
      "source": [
        "#pre_data_control = df[(df.receivedMailing == 0) & (df.weeknum < 201903)]"
      ],
      "execution_count": null,
      "outputs": []
    },
    {
      "cell_type": "code",
      "metadata": {
        "id": "Rp3DGbtT221I"
      },
      "source": [
        "#df = pd.DataFrame({\"column1\": [\"a\", \"b\", \"a\"]})\n",
        "#print(df)"
      ],
      "execution_count": null,
      "outputs": []
    },
    {
      "cell_type": "code",
      "metadata": {
        "id": "8L-3YAsx23qj"
      },
      "source": [
        "#df[\"column1\"].replace({\"a\": \"x\", \"b\": \"y\"}, inplace=True)\n",
        "#print(df)"
      ],
      "execution_count": null,
      "outputs": []
    },
    {
      "cell_type": "code",
      "metadata": {
        "colab": {
          "base_uri": "https://localhost:8080/"
        },
        "id": "dWAjfl-P-c4F",
        "outputId": "630ecf07-d0bf-4910-fe5d-3a52d2cc10b8"
      },
      "source": [
        "#df[column_name].replace([old_value1, old_value2, old_value3],[new_value1, new_value2, new_value3])\n",
        "#df['name']= df['name'].replace(['michael','louis'],['karl','lionel'])\n",
        "\n",
        "post_data_exp['weeknum']=post_data_exp['weeknum'].replace([201903, 201904,201905,201906,201907,201908,201909, 201910], [1,2,3,4,5,6,7,8])"
      ],
      "execution_count": null,
      "outputs": [
        {
          "output_type": "stream",
          "name": "stderr",
          "text": [
            "/usr/local/lib/python3.7/dist-packages/ipykernel_launcher.py:4: SettingWithCopyWarning: \n",
            "A value is trying to be set on a copy of a slice from a DataFrame.\n",
            "Try using .loc[row_indexer,col_indexer] = value instead\n",
            "\n",
            "See the caveats in the documentation: https://pandas.pydata.org/pandas-docs/stable/user_guide/indexing.html#returning-a-view-versus-a-copy\n",
            "  after removing the cwd from sys.path.\n"
          ]
        }
      ]
    },
    {
      "cell_type": "code",
      "metadata": {
        "id": "k03CrmSKHt7e"
      },
      "source": [
        "weekly_data = post_data_exp.copy()\n",
        "#post_data_exp.tail()"
      ],
      "execution_count": null,
      "outputs": []
    },
    {
      "cell_type": "code",
      "metadata": {
        "id": "RvQyj2R47jFg",
        "colab": {
          "base_uri": "https://localhost:8080/",
          "height": 200
        },
        "outputId": "5b239af5-5dc8-4e9c-b9fb-cd01df78d24c"
      },
      "source": [
        "#ata[‘construction_year’]=data[‘construction_year’].replace(to_replace=0,value=2010)\n",
        "#post_data_control[\"weeknum\"] = post_data_control['weeknum'].replace()\n",
        "weekly_data.head()"
      ],
      "execution_count": null,
      "outputs": [
        {
          "output_type": "execute_result",
          "data": {
            "text/html": [
              "<div>\n",
              "<style scoped>\n",
              "    .dataframe tbody tr th:only-of-type {\n",
              "        vertical-align: middle;\n",
              "    }\n",
              "\n",
              "    .dataframe tbody tr th {\n",
              "        vertical-align: top;\n",
              "    }\n",
              "\n",
              "    .dataframe thead th {\n",
              "        text-align: right;\n",
              "    }\n",
              "</style>\n",
              "<table border=\"1\" class=\"dataframe\">\n",
              "  <thead>\n",
              "    <tr style=\"text-align: right;\">\n",
              "      <th></th>\n",
              "      <th>userid</th>\n",
              "      <th>weeknum</th>\n",
              "      <th>educationclass</th>\n",
              "      <th>weekssinceregistration</th>\n",
              "      <th>regularityactivity</th>\n",
              "      <th>logindays</th>\n",
              "      <th>playtime</th>\n",
              "      <th>receivedMailing</th>\n",
              "    </tr>\n",
              "  </thead>\n",
              "  <tbody>\n",
              "    <tr>\n",
              "      <th>31697</th>\n",
              "      <td>174008</td>\n",
              "      <td>1</td>\n",
              "      <td>5</td>\n",
              "      <td>334</td>\n",
              "      <td>inconsistently active</td>\n",
              "      <td>2</td>\n",
              "      <td>1715000</td>\n",
              "      <td>1</td>\n",
              "    </tr>\n",
              "    <tr>\n",
              "      <th>31698</th>\n",
              "      <td>176325</td>\n",
              "      <td>1</td>\n",
              "      <td>7</td>\n",
              "      <td>333</td>\n",
              "      <td>inconsistently active</td>\n",
              "      <td>3</td>\n",
              "      <td>1226000</td>\n",
              "      <td>1</td>\n",
              "    </tr>\n",
              "    <tr>\n",
              "      <th>31699</th>\n",
              "      <td>176609</td>\n",
              "      <td>1</td>\n",
              "      <td>8</td>\n",
              "      <td>333</td>\n",
              "      <td>consistently active</td>\n",
              "      <td>4</td>\n",
              "      <td>1796000</td>\n",
              "      <td>1</td>\n",
              "    </tr>\n",
              "    <tr>\n",
              "      <th>31700</th>\n",
              "      <td>182218</td>\n",
              "      <td>1</td>\n",
              "      <td>8</td>\n",
              "      <td>332</td>\n",
              "      <td>consistently inactive</td>\n",
              "      <td>0</td>\n",
              "      <td>0</td>\n",
              "      <td>1</td>\n",
              "    </tr>\n",
              "    <tr>\n",
              "      <th>31701</th>\n",
              "      <td>182226</td>\n",
              "      <td>1</td>\n",
              "      <td>6</td>\n",
              "      <td>332</td>\n",
              "      <td>consistently active</td>\n",
              "      <td>3</td>\n",
              "      <td>973000</td>\n",
              "      <td>1</td>\n",
              "    </tr>\n",
              "  </tbody>\n",
              "</table>\n",
              "</div>"
            ],
            "text/plain": [
              "       userid  weeknum  educationclass  ...  logindays playtime  receivedMailing\n",
              "31697  174008        1               5  ...          2  1715000                1\n",
              "31698  176325        1               7  ...          3  1226000                1\n",
              "31699  176609        1               8  ...          4  1796000                1\n",
              "31700  182218        1               8  ...          0        0                1\n",
              "31701  182226        1               6  ...          3   973000                1\n",
              "\n",
              "[5 rows x 8 columns]"
            ]
          },
          "metadata": {},
          "execution_count": 28
        }
      ]
    },
    {
      "cell_type": "code",
      "metadata": {
        "id": "Dgq9R1QeoR9I"
      },
      "source": [
        "weekly_data.drop([\"userid\", \"educationclass\", \"weekssinceregistration\", \"logindays\", \"playtime\", \"receivedMailing\"], axis = 1, inplace= True)"
      ],
      "execution_count": null,
      "outputs": []
    },
    {
      "cell_type": "code",
      "metadata": {
        "colab": {
          "base_uri": "https://localhost:8080/",
          "height": 408
        },
        "id": "1MO771MzscJg",
        "outputId": "e5f7758a-3c69-4812-c1db-44db22b39495"
      },
      "source": [
        "weekly_data"
      ],
      "execution_count": null,
      "outputs": [
        {
          "output_type": "execute_result",
          "data": {
            "text/html": [
              "<div>\n",
              "<style scoped>\n",
              "    .dataframe tbody tr th:only-of-type {\n",
              "        vertical-align: middle;\n",
              "    }\n",
              "\n",
              "    .dataframe tbody tr th {\n",
              "        vertical-align: top;\n",
              "    }\n",
              "\n",
              "    .dataframe thead th {\n",
              "        text-align: right;\n",
              "    }\n",
              "</style>\n",
              "<table border=\"1\" class=\"dataframe\">\n",
              "  <thead>\n",
              "    <tr style=\"text-align: right;\">\n",
              "      <th></th>\n",
              "      <th>weeknum</th>\n",
              "      <th>regularityactivity</th>\n",
              "    </tr>\n",
              "  </thead>\n",
              "  <tbody>\n",
              "    <tr>\n",
              "      <th>31697</th>\n",
              "      <td>1</td>\n",
              "      <td>inconsistently active</td>\n",
              "    </tr>\n",
              "    <tr>\n",
              "      <th>31698</th>\n",
              "      <td>1</td>\n",
              "      <td>inconsistently active</td>\n",
              "    </tr>\n",
              "    <tr>\n",
              "      <th>31699</th>\n",
              "      <td>1</td>\n",
              "      <td>consistently active</td>\n",
              "    </tr>\n",
              "    <tr>\n",
              "      <th>31700</th>\n",
              "      <td>1</td>\n",
              "      <td>consistently inactive</td>\n",
              "    </tr>\n",
              "    <tr>\n",
              "      <th>31701</th>\n",
              "      <td>1</td>\n",
              "      <td>consistently active</td>\n",
              "    </tr>\n",
              "    <tr>\n",
              "      <th>...</th>\n",
              "      <td>...</td>\n",
              "      <td>...</td>\n",
              "    </tr>\n",
              "    <tr>\n",
              "      <th>282204</th>\n",
              "      <td>8</td>\n",
              "      <td>inconsistently active</td>\n",
              "    </tr>\n",
              "    <tr>\n",
              "      <th>282205</th>\n",
              "      <td>8</td>\n",
              "      <td>inconsistently inactive</td>\n",
              "    </tr>\n",
              "    <tr>\n",
              "      <th>282207</th>\n",
              "      <td>8</td>\n",
              "      <td>consistently inactive</td>\n",
              "    </tr>\n",
              "    <tr>\n",
              "      <th>282208</th>\n",
              "      <td>8</td>\n",
              "      <td>inconsistently active</td>\n",
              "    </tr>\n",
              "    <tr>\n",
              "      <th>282210</th>\n",
              "      <td>8</td>\n",
              "      <td>inconsistently inactive</td>\n",
              "    </tr>\n",
              "  </tbody>\n",
              "</table>\n",
              "<p>166985 rows × 2 columns</p>\n",
              "</div>"
            ],
            "text/plain": [
              "        weeknum       regularityactivity\n",
              "31697         1    inconsistently active\n",
              "31698         1    inconsistently active\n",
              "31699         1      consistently active\n",
              "31700         1    consistently inactive\n",
              "31701         1      consistently active\n",
              "...         ...                      ...\n",
              "282204        8    inconsistently active\n",
              "282205        8  inconsistently inactive\n",
              "282207        8    consistently inactive\n",
              "282208        8    inconsistently active\n",
              "282210        8  inconsistently inactive\n",
              "\n",
              "[166985 rows x 2 columns]"
            ]
          },
          "metadata": {},
          "execution_count": 30
        }
      ]
    },
    {
      "cell_type": "code",
      "metadata": {
        "colab": {
          "base_uri": "https://localhost:8080/",
          "height": 408
        },
        "id": "nzVz_OilpO3G",
        "outputId": "c1b94f86-2653-4e42-be56-9900161de690"
      },
      "source": [
        "evolution_day_a= weekly_data[(weekly_data.regularityactivity == \"consistently inactive\")]\n",
        "evolution_day_a"
      ],
      "execution_count": null,
      "outputs": [
        {
          "output_type": "execute_result",
          "data": {
            "text/html": [
              "<div>\n",
              "<style scoped>\n",
              "    .dataframe tbody tr th:only-of-type {\n",
              "        vertical-align: middle;\n",
              "    }\n",
              "\n",
              "    .dataframe tbody tr th {\n",
              "        vertical-align: top;\n",
              "    }\n",
              "\n",
              "    .dataframe thead th {\n",
              "        text-align: right;\n",
              "    }\n",
              "</style>\n",
              "<table border=\"1\" class=\"dataframe\">\n",
              "  <thead>\n",
              "    <tr style=\"text-align: right;\">\n",
              "      <th></th>\n",
              "      <th>weeknum</th>\n",
              "      <th>regularityactivity</th>\n",
              "    </tr>\n",
              "  </thead>\n",
              "  <tbody>\n",
              "    <tr>\n",
              "      <th>31700</th>\n",
              "      <td>1</td>\n",
              "      <td>consistently inactive</td>\n",
              "    </tr>\n",
              "    <tr>\n",
              "      <th>31702</th>\n",
              "      <td>1</td>\n",
              "      <td>consistently inactive</td>\n",
              "    </tr>\n",
              "    <tr>\n",
              "      <th>31762</th>\n",
              "      <td>1</td>\n",
              "      <td>consistently inactive</td>\n",
              "    </tr>\n",
              "    <tr>\n",
              "      <th>31770</th>\n",
              "      <td>1</td>\n",
              "      <td>consistently inactive</td>\n",
              "    </tr>\n",
              "    <tr>\n",
              "      <th>31771</th>\n",
              "      <td>1</td>\n",
              "      <td>consistently inactive</td>\n",
              "    </tr>\n",
              "    <tr>\n",
              "      <th>...</th>\n",
              "      <td>...</td>\n",
              "      <td>...</td>\n",
              "    </tr>\n",
              "    <tr>\n",
              "      <th>282187</th>\n",
              "      <td>8</td>\n",
              "      <td>consistently inactive</td>\n",
              "    </tr>\n",
              "    <tr>\n",
              "      <th>282188</th>\n",
              "      <td>8</td>\n",
              "      <td>consistently inactive</td>\n",
              "    </tr>\n",
              "    <tr>\n",
              "      <th>282192</th>\n",
              "      <td>8</td>\n",
              "      <td>consistently inactive</td>\n",
              "    </tr>\n",
              "    <tr>\n",
              "      <th>282193</th>\n",
              "      <td>8</td>\n",
              "      <td>consistently inactive</td>\n",
              "    </tr>\n",
              "    <tr>\n",
              "      <th>282207</th>\n",
              "      <td>8</td>\n",
              "      <td>consistently inactive</td>\n",
              "    </tr>\n",
              "  </tbody>\n",
              "</table>\n",
              "<p>19549 rows × 2 columns</p>\n",
              "</div>"
            ],
            "text/plain": [
              "        weeknum     regularityactivity\n",
              "31700         1  consistently inactive\n",
              "31702         1  consistently inactive\n",
              "31762         1  consistently inactive\n",
              "31770         1  consistently inactive\n",
              "31771         1  consistently inactive\n",
              "...         ...                    ...\n",
              "282187        8  consistently inactive\n",
              "282188        8  consistently inactive\n",
              "282192        8  consistently inactive\n",
              "282193        8  consistently inactive\n",
              "282207        8  consistently inactive\n",
              "\n",
              "[19549 rows x 2 columns]"
            ]
          },
          "metadata": {},
          "execution_count": 31
        }
      ]
    },
    {
      "cell_type": "code",
      "metadata": {
        "colab": {
          "base_uri": "https://localhost:8080/"
        },
        "id": "NUz8OppHI0H4",
        "outputId": "768c6b9c-c854-44e9-b39b-f5d75b85822d"
      },
      "source": [
        "evolution_day_a.drop([\"regularityactivity\"], axis= 1, inplace=True)\n"
      ],
      "execution_count": null,
      "outputs": [
        {
          "output_type": "stream",
          "name": "stderr",
          "text": [
            "/usr/local/lib/python3.7/dist-packages/pandas/core/frame.py:4174: SettingWithCopyWarning: \n",
            "A value is trying to be set on a copy of a slice from a DataFrame\n",
            "\n",
            "See the caveats in the documentation: https://pandas.pydata.org/pandas-docs/stable/user_guide/indexing.html#returning-a-view-versus-a-copy\n",
            "  errors=errors,\n"
          ]
        }
      ]
    },
    {
      "cell_type": "code",
      "metadata": {
        "colab": {
          "base_uri": "https://localhost:8080/",
          "height": 328
        },
        "id": "xrKhUtBHokUH",
        "outputId": "f0e4f948-e416-4f52-8265-04f13f2c6bfc"
      },
      "source": [
        "evolution_day_a.set_axis([0,1,2,3,4,5,6,7], axis=\"index\")"
      ],
      "execution_count": null,
      "outputs": [
        {
          "output_type": "error",
          "ename": "ValueError",
          "evalue": "ignored",
          "traceback": [
            "\u001b[0;31m---------------------------------------------------------------------------\u001b[0m",
            "\u001b[0;31mValueError\u001b[0m                                Traceback (most recent call last)",
            "\u001b[0;32m<ipython-input-73-548e1cec7ec2>\u001b[0m in \u001b[0;36m<module>\u001b[0;34m()\u001b[0m\n\u001b[0;32m----> 1\u001b[0;31m \u001b[0mevolution_day_a\u001b[0m\u001b[0;34m.\u001b[0m\u001b[0mset_axis\u001b[0m\u001b[0;34m(\u001b[0m\u001b[0;34m[\u001b[0m\u001b[0;36m0\u001b[0m\u001b[0;34m,\u001b[0m\u001b[0;36m1\u001b[0m\u001b[0;34m,\u001b[0m\u001b[0;36m2\u001b[0m\u001b[0;34m,\u001b[0m\u001b[0;36m3\u001b[0m\u001b[0;34m,\u001b[0m\u001b[0;36m4\u001b[0m\u001b[0;34m,\u001b[0m\u001b[0;36m5\u001b[0m\u001b[0;34m,\u001b[0m\u001b[0;36m6\u001b[0m\u001b[0;34m,\u001b[0m\u001b[0;36m7\u001b[0m\u001b[0;34m]\u001b[0m\u001b[0;34m,\u001b[0m \u001b[0maxis\u001b[0m\u001b[0;34m=\u001b[0m\u001b[0;34m\"index\"\u001b[0m\u001b[0;34m)\u001b[0m\u001b[0;34m\u001b[0m\u001b[0;34m\u001b[0m\u001b[0m\n\u001b[0m",
            "\u001b[0;32m/usr/local/lib/python3.7/dist-packages/pandas/core/frame.py\u001b[0m in \u001b[0;36mset_axis\u001b[0;34m(self, labels, axis, inplace)\u001b[0m\n\u001b[1;32m   4013\u001b[0m     \u001b[0;34m@\u001b[0m\u001b[0mAppender\u001b[0m\u001b[0;34m(\u001b[0m\u001b[0mNDFrame\u001b[0m\u001b[0;34m.\u001b[0m\u001b[0mset_axis\u001b[0m\u001b[0;34m.\u001b[0m\u001b[0m__doc__\u001b[0m\u001b[0;34m)\u001b[0m\u001b[0;34m\u001b[0m\u001b[0;34m\u001b[0m\u001b[0m\n\u001b[1;32m   4014\u001b[0m     \u001b[0;32mdef\u001b[0m \u001b[0mset_axis\u001b[0m\u001b[0;34m(\u001b[0m\u001b[0mself\u001b[0m\u001b[0;34m,\u001b[0m \u001b[0mlabels\u001b[0m\u001b[0;34m,\u001b[0m \u001b[0maxis\u001b[0m\u001b[0;34m:\u001b[0m \u001b[0mAxis\u001b[0m \u001b[0;34m=\u001b[0m \u001b[0;36m0\u001b[0m\u001b[0;34m,\u001b[0m \u001b[0minplace\u001b[0m\u001b[0;34m:\u001b[0m \u001b[0mbool\u001b[0m \u001b[0;34m=\u001b[0m \u001b[0;32mFalse\u001b[0m\u001b[0;34m)\u001b[0m\u001b[0;34m:\u001b[0m\u001b[0;34m\u001b[0m\u001b[0;34m\u001b[0m\u001b[0m\n\u001b[0;32m-> 4015\u001b[0;31m         \u001b[0;32mreturn\u001b[0m \u001b[0msuper\u001b[0m\u001b[0;34m(\u001b[0m\u001b[0;34m)\u001b[0m\u001b[0;34m.\u001b[0m\u001b[0mset_axis\u001b[0m\u001b[0;34m(\u001b[0m\u001b[0mlabels\u001b[0m\u001b[0;34m,\u001b[0m \u001b[0maxis\u001b[0m\u001b[0;34m=\u001b[0m\u001b[0maxis\u001b[0m\u001b[0;34m,\u001b[0m \u001b[0minplace\u001b[0m\u001b[0;34m=\u001b[0m\u001b[0minplace\u001b[0m\u001b[0;34m)\u001b[0m\u001b[0;34m\u001b[0m\u001b[0;34m\u001b[0m\u001b[0m\n\u001b[0m\u001b[1;32m   4016\u001b[0m \u001b[0;34m\u001b[0m\u001b[0m\n\u001b[1;32m   4017\u001b[0m     \u001b[0;34m@\u001b[0m\u001b[0mSubstitution\u001b[0m\u001b[0;34m(\u001b[0m\u001b[0;34m**\u001b[0m\u001b[0m_shared_doc_kwargs\u001b[0m\u001b[0;34m)\u001b[0m\u001b[0;34m\u001b[0m\u001b[0;34m\u001b[0m\u001b[0m\n",
            "\u001b[0;32m/usr/local/lib/python3.7/dist-packages/pandas/core/generic.py\u001b[0m in \u001b[0;36mset_axis\u001b[0;34m(self, labels, axis, inplace)\u001b[0m\n\u001b[1;32m    557\u001b[0m         \u001b[0;32melse\u001b[0m\u001b[0;34m:\u001b[0m\u001b[0;34m\u001b[0m\u001b[0;34m\u001b[0m\u001b[0m\n\u001b[1;32m    558\u001b[0m             \u001b[0mobj\u001b[0m \u001b[0;34m=\u001b[0m \u001b[0mself\u001b[0m\u001b[0;34m.\u001b[0m\u001b[0mcopy\u001b[0m\u001b[0;34m(\u001b[0m\u001b[0;34m)\u001b[0m\u001b[0;34m\u001b[0m\u001b[0;34m\u001b[0m\u001b[0m\n\u001b[0;32m--> 559\u001b[0;31m             \u001b[0mobj\u001b[0m\u001b[0;34m.\u001b[0m\u001b[0mset_axis\u001b[0m\u001b[0;34m(\u001b[0m\u001b[0mlabels\u001b[0m\u001b[0;34m,\u001b[0m \u001b[0maxis\u001b[0m\u001b[0;34m=\u001b[0m\u001b[0maxis\u001b[0m\u001b[0;34m,\u001b[0m \u001b[0minplace\u001b[0m\u001b[0;34m=\u001b[0m\u001b[0;32mTrue\u001b[0m\u001b[0;34m)\u001b[0m\u001b[0;34m\u001b[0m\u001b[0;34m\u001b[0m\u001b[0m\n\u001b[0m\u001b[1;32m    560\u001b[0m             \u001b[0;32mreturn\u001b[0m \u001b[0mobj\u001b[0m\u001b[0;34m\u001b[0m\u001b[0;34m\u001b[0m\u001b[0m\n\u001b[1;32m    561\u001b[0m \u001b[0;34m\u001b[0m\u001b[0m\n",
            "\u001b[0;32m/usr/local/lib/python3.7/dist-packages/pandas/core/frame.py\u001b[0m in \u001b[0;36mset_axis\u001b[0;34m(self, labels, axis, inplace)\u001b[0m\n\u001b[1;32m   4013\u001b[0m     \u001b[0;34m@\u001b[0m\u001b[0mAppender\u001b[0m\u001b[0;34m(\u001b[0m\u001b[0mNDFrame\u001b[0m\u001b[0;34m.\u001b[0m\u001b[0mset_axis\u001b[0m\u001b[0;34m.\u001b[0m\u001b[0m__doc__\u001b[0m\u001b[0;34m)\u001b[0m\u001b[0;34m\u001b[0m\u001b[0;34m\u001b[0m\u001b[0m\n\u001b[1;32m   4014\u001b[0m     \u001b[0;32mdef\u001b[0m \u001b[0mset_axis\u001b[0m\u001b[0;34m(\u001b[0m\u001b[0mself\u001b[0m\u001b[0;34m,\u001b[0m \u001b[0mlabels\u001b[0m\u001b[0;34m,\u001b[0m \u001b[0maxis\u001b[0m\u001b[0;34m:\u001b[0m \u001b[0mAxis\u001b[0m \u001b[0;34m=\u001b[0m \u001b[0;36m0\u001b[0m\u001b[0;34m,\u001b[0m \u001b[0minplace\u001b[0m\u001b[0;34m:\u001b[0m \u001b[0mbool\u001b[0m \u001b[0;34m=\u001b[0m \u001b[0;32mFalse\u001b[0m\u001b[0;34m)\u001b[0m\u001b[0;34m:\u001b[0m\u001b[0;34m\u001b[0m\u001b[0;34m\u001b[0m\u001b[0m\n\u001b[0;32m-> 4015\u001b[0;31m         \u001b[0;32mreturn\u001b[0m \u001b[0msuper\u001b[0m\u001b[0;34m(\u001b[0m\u001b[0;34m)\u001b[0m\u001b[0;34m.\u001b[0m\u001b[0mset_axis\u001b[0m\u001b[0;34m(\u001b[0m\u001b[0mlabels\u001b[0m\u001b[0;34m,\u001b[0m \u001b[0maxis\u001b[0m\u001b[0;34m=\u001b[0m\u001b[0maxis\u001b[0m\u001b[0;34m,\u001b[0m \u001b[0minplace\u001b[0m\u001b[0;34m=\u001b[0m\u001b[0minplace\u001b[0m\u001b[0;34m)\u001b[0m\u001b[0;34m\u001b[0m\u001b[0;34m\u001b[0m\u001b[0m\n\u001b[0m\u001b[1;32m   4016\u001b[0m \u001b[0;34m\u001b[0m\u001b[0m\n\u001b[1;32m   4017\u001b[0m     \u001b[0;34m@\u001b[0m\u001b[0mSubstitution\u001b[0m\u001b[0;34m(\u001b[0m\u001b[0;34m**\u001b[0m\u001b[0m_shared_doc_kwargs\u001b[0m\u001b[0;34m)\u001b[0m\u001b[0;34m\u001b[0m\u001b[0;34m\u001b[0m\u001b[0m\n",
            "\u001b[0;32m/usr/local/lib/python3.7/dist-packages/pandas/core/generic.py\u001b[0m in \u001b[0;36mset_axis\u001b[0;34m(self, labels, axis, inplace)\u001b[0m\n\u001b[1;32m    554\u001b[0m         \"\"\"\n\u001b[1;32m    555\u001b[0m         \u001b[0;32mif\u001b[0m \u001b[0minplace\u001b[0m\u001b[0;34m:\u001b[0m\u001b[0;34m\u001b[0m\u001b[0;34m\u001b[0m\u001b[0m\n\u001b[0;32m--> 556\u001b[0;31m             \u001b[0msetattr\u001b[0m\u001b[0;34m(\u001b[0m\u001b[0mself\u001b[0m\u001b[0;34m,\u001b[0m \u001b[0mself\u001b[0m\u001b[0;34m.\u001b[0m\u001b[0m_get_axis_name\u001b[0m\u001b[0;34m(\u001b[0m\u001b[0maxis\u001b[0m\u001b[0;34m)\u001b[0m\u001b[0;34m,\u001b[0m \u001b[0mlabels\u001b[0m\u001b[0;34m)\u001b[0m\u001b[0;34m\u001b[0m\u001b[0;34m\u001b[0m\u001b[0m\n\u001b[0m\u001b[1;32m    557\u001b[0m         \u001b[0;32melse\u001b[0m\u001b[0;34m:\u001b[0m\u001b[0;34m\u001b[0m\u001b[0;34m\u001b[0m\u001b[0m\n\u001b[1;32m    558\u001b[0m             \u001b[0mobj\u001b[0m \u001b[0;34m=\u001b[0m \u001b[0mself\u001b[0m\u001b[0;34m.\u001b[0m\u001b[0mcopy\u001b[0m\u001b[0;34m(\u001b[0m\u001b[0;34m)\u001b[0m\u001b[0;34m\u001b[0m\u001b[0;34m\u001b[0m\u001b[0m\n",
            "\u001b[0;32m/usr/local/lib/python3.7/dist-packages/pandas/core/generic.py\u001b[0m in \u001b[0;36m__setattr__\u001b[0;34m(self, name, value)\u001b[0m\n\u001b[1;32m   5152\u001b[0m         \u001b[0;32mtry\u001b[0m\u001b[0;34m:\u001b[0m\u001b[0;34m\u001b[0m\u001b[0;34m\u001b[0m\u001b[0m\n\u001b[1;32m   5153\u001b[0m             \u001b[0mobject\u001b[0m\u001b[0;34m.\u001b[0m\u001b[0m__getattribute__\u001b[0m\u001b[0;34m(\u001b[0m\u001b[0mself\u001b[0m\u001b[0;34m,\u001b[0m \u001b[0mname\u001b[0m\u001b[0;34m)\u001b[0m\u001b[0;34m\u001b[0m\u001b[0;34m\u001b[0m\u001b[0m\n\u001b[0;32m-> 5154\u001b[0;31m             \u001b[0;32mreturn\u001b[0m \u001b[0mobject\u001b[0m\u001b[0;34m.\u001b[0m\u001b[0m__setattr__\u001b[0m\u001b[0;34m(\u001b[0m\u001b[0mself\u001b[0m\u001b[0;34m,\u001b[0m \u001b[0mname\u001b[0m\u001b[0;34m,\u001b[0m \u001b[0mvalue\u001b[0m\u001b[0;34m)\u001b[0m\u001b[0;34m\u001b[0m\u001b[0;34m\u001b[0m\u001b[0m\n\u001b[0m\u001b[1;32m   5155\u001b[0m         \u001b[0;32mexcept\u001b[0m \u001b[0mAttributeError\u001b[0m\u001b[0;34m:\u001b[0m\u001b[0;34m\u001b[0m\u001b[0;34m\u001b[0m\u001b[0m\n\u001b[1;32m   5156\u001b[0m             \u001b[0;32mpass\u001b[0m\u001b[0;34m\u001b[0m\u001b[0;34m\u001b[0m\u001b[0m\n",
            "\u001b[0;32mpandas/_libs/properties.pyx\u001b[0m in \u001b[0;36mpandas._libs.properties.AxisProperty.__set__\u001b[0;34m()\u001b[0m\n",
            "\u001b[0;32m/usr/local/lib/python3.7/dist-packages/pandas/core/generic.py\u001b[0m in \u001b[0;36m_set_axis\u001b[0;34m(self, axis, labels)\u001b[0m\n\u001b[1;32m    562\u001b[0m     \u001b[0;32mdef\u001b[0m \u001b[0m_set_axis\u001b[0m\u001b[0;34m(\u001b[0m\u001b[0mself\u001b[0m\u001b[0;34m,\u001b[0m \u001b[0maxis\u001b[0m\u001b[0;34m:\u001b[0m \u001b[0mint\u001b[0m\u001b[0;34m,\u001b[0m \u001b[0mlabels\u001b[0m\u001b[0;34m:\u001b[0m \u001b[0mIndex\u001b[0m\u001b[0;34m)\u001b[0m \u001b[0;34m->\u001b[0m \u001b[0;32mNone\u001b[0m\u001b[0;34m:\u001b[0m\u001b[0;34m\u001b[0m\u001b[0;34m\u001b[0m\u001b[0m\n\u001b[1;32m    563\u001b[0m         \u001b[0mlabels\u001b[0m \u001b[0;34m=\u001b[0m \u001b[0mensure_index\u001b[0m\u001b[0;34m(\u001b[0m\u001b[0mlabels\u001b[0m\u001b[0;34m)\u001b[0m\u001b[0;34m\u001b[0m\u001b[0;34m\u001b[0m\u001b[0m\n\u001b[0;32m--> 564\u001b[0;31m         \u001b[0mself\u001b[0m\u001b[0;34m.\u001b[0m\u001b[0m_mgr\u001b[0m\u001b[0;34m.\u001b[0m\u001b[0mset_axis\u001b[0m\u001b[0;34m(\u001b[0m\u001b[0maxis\u001b[0m\u001b[0;34m,\u001b[0m \u001b[0mlabels\u001b[0m\u001b[0;34m)\u001b[0m\u001b[0;34m\u001b[0m\u001b[0;34m\u001b[0m\u001b[0m\n\u001b[0m\u001b[1;32m    565\u001b[0m         \u001b[0mself\u001b[0m\u001b[0;34m.\u001b[0m\u001b[0m_clear_item_cache\u001b[0m\u001b[0;34m(\u001b[0m\u001b[0;34m)\u001b[0m\u001b[0;34m\u001b[0m\u001b[0;34m\u001b[0m\u001b[0m\n\u001b[1;32m    566\u001b[0m \u001b[0;34m\u001b[0m\u001b[0m\n",
            "\u001b[0;32m/usr/local/lib/python3.7/dist-packages/pandas/core/internals/managers.py\u001b[0m in \u001b[0;36mset_axis\u001b[0;34m(self, axis, new_labels)\u001b[0m\n\u001b[1;32m    225\u001b[0m         \u001b[0;32mif\u001b[0m \u001b[0mnew_len\u001b[0m \u001b[0;34m!=\u001b[0m \u001b[0mold_len\u001b[0m\u001b[0;34m:\u001b[0m\u001b[0;34m\u001b[0m\u001b[0;34m\u001b[0m\u001b[0m\n\u001b[1;32m    226\u001b[0m             raise ValueError(\n\u001b[0;32m--> 227\u001b[0;31m                 \u001b[0;34mf\"Length mismatch: Expected axis has {old_len} elements, new \"\u001b[0m\u001b[0;34m\u001b[0m\u001b[0;34m\u001b[0m\u001b[0m\n\u001b[0m\u001b[1;32m    228\u001b[0m                 \u001b[0;34mf\"values have {new_len} elements\"\u001b[0m\u001b[0;34m\u001b[0m\u001b[0;34m\u001b[0m\u001b[0m\n\u001b[1;32m    229\u001b[0m             )\n",
            "\u001b[0;31mValueError\u001b[0m: Length mismatch: Expected axis has 19549 elements, new values have 8 elements"
          ]
        }
      ]
    },
    {
      "cell_type": "code",
      "metadata": {
        "id": "33_xJf_6ph2x"
      },
      "source": [
        ""
      ],
      "execution_count": null,
      "outputs": []
    },
    {
      "cell_type": "code",
      "metadata": {
        "id": "-LeSBaTOdvGE"
      },
      "source": [
        "#df_1 = pd.DataFrame([[1.1, 1.1, 1.1, 2.6, 2.5, 3.4,2.6,2.6,3.4,3.4,2.6,1.1,1.1,3.3], list('AAABBBBABCBDDD'), [1.1, 1.7, 2.5, 2.6, 3.3, 3.8,4.0,4.2,4.3,4.5,4.6,4.7,4.7,4.8], ['x/y/z','x/y','x/y/z/n','x/u','x','x/u/v','x/y/z','x','x/u/v/b','-','x/y','x/y/z','x','x/u/v/w'],['1','3','3','2','4','2','5','3','6','3','5','1','1','1']]).T\n",
        "#df_1.columns = ['col1','col2','col3','col4','col5']\n",
        "#df_1"
      ],
      "execution_count": null,
      "outputs": []
    },
    {
      "cell_type": "code",
      "metadata": {
        "id": "nDqTB3k5gQn1"
      },
      "source": [
        "#df_1.groupby(['col5','col2']).reset_index()"
      ],
      "execution_count": null,
      "outputs": []
    },
    {
      "cell_type": "code",
      "metadata": {
        "colab": {
          "base_uri": "https://localhost:8080/"
        },
        "id": "-OW5HwtEj8qL",
        "outputId": "49f3be68-74cc-41a7-9c33-15bd9841b7b6"
      },
      "source": [
        "inactive = evolution_day_a.groupby(['weeknum']).size()\n",
        "inactive"
      ],
      "execution_count": null,
      "outputs": [
        {
          "output_type": "execute_result",
          "data": {
            "text/plain": [
              "weeknum\n",
              "1    2048\n",
              "2    1880\n",
              "3    1801\n",
              "4    1826\n",
              "5    1978\n",
              "6    2744\n",
              "7    3472\n",
              "8    3800\n",
              "dtype: int64"
            ]
          },
          "metadata": {},
          "execution_count": 33
        }
      ]
    },
    {
      "cell_type": "code",
      "metadata": {
        "colab": {
          "base_uri": "https://localhost:8080/",
          "height": 320
        },
        "id": "VXgo0HZ5cXQX",
        "outputId": "e3cfdf4c-f4e2-41f6-b87f-38b2822fc8a7"
      },
      "source": [
        "inactive_count = pd.DataFrame(inactive)\n",
        "inactive_count\n",
        "\n",
        "#evolution_day_a.value_counts()"
      ],
      "execution_count": null,
      "outputs": [
        {
          "output_type": "execute_result",
          "data": {
            "text/html": [
              "<div>\n",
              "<style scoped>\n",
              "    .dataframe tbody tr th:only-of-type {\n",
              "        vertical-align: middle;\n",
              "    }\n",
              "\n",
              "    .dataframe tbody tr th {\n",
              "        vertical-align: top;\n",
              "    }\n",
              "\n",
              "    .dataframe thead th {\n",
              "        text-align: right;\n",
              "    }\n",
              "</style>\n",
              "<table border=\"1\" class=\"dataframe\">\n",
              "  <thead>\n",
              "    <tr style=\"text-align: right;\">\n",
              "      <th></th>\n",
              "      <th>0</th>\n",
              "    </tr>\n",
              "    <tr>\n",
              "      <th>weeknum</th>\n",
              "      <th></th>\n",
              "    </tr>\n",
              "  </thead>\n",
              "  <tbody>\n",
              "    <tr>\n",
              "      <th>1</th>\n",
              "      <td>2048</td>\n",
              "    </tr>\n",
              "    <tr>\n",
              "      <th>2</th>\n",
              "      <td>1880</td>\n",
              "    </tr>\n",
              "    <tr>\n",
              "      <th>3</th>\n",
              "      <td>1801</td>\n",
              "    </tr>\n",
              "    <tr>\n",
              "      <th>4</th>\n",
              "      <td>1826</td>\n",
              "    </tr>\n",
              "    <tr>\n",
              "      <th>5</th>\n",
              "      <td>1978</td>\n",
              "    </tr>\n",
              "    <tr>\n",
              "      <th>6</th>\n",
              "      <td>2744</td>\n",
              "    </tr>\n",
              "    <tr>\n",
              "      <th>7</th>\n",
              "      <td>3472</td>\n",
              "    </tr>\n",
              "    <tr>\n",
              "      <th>8</th>\n",
              "      <td>3800</td>\n",
              "    </tr>\n",
              "  </tbody>\n",
              "</table>\n",
              "</div>"
            ],
            "text/plain": [
              "            0\n",
              "weeknum      \n",
              "1        2048\n",
              "2        1880\n",
              "3        1801\n",
              "4        1826\n",
              "5        1978\n",
              "6        2744\n",
              "7        3472\n",
              "8        3800"
            ]
          },
          "metadata": {},
          "execution_count": 34
        }
      ]
    },
    {
      "cell_type": "code",
      "metadata": {
        "id": "XR4gwBTEqiLn"
      },
      "source": [
        "#n_evolution_day_a = evolution_day_a.value_counts().sort_index()"
      ],
      "execution_count": null,
      "outputs": []
    },
    {
      "cell_type": "code",
      "metadata": {
        "id": "7cZ1EfvkrEg1"
      },
      "source": [
        "#n_evolution_day_a"
      ],
      "execution_count": null,
      "outputs": []
    },
    {
      "cell_type": "code",
      "metadata": {
        "colab": {
          "base_uri": "https://localhost:8080/"
        },
        "id": "b7BhhkFBW6al",
        "outputId": "79a8b97c-61c8-4643-d080-c04d30900528"
      },
      "source": [
        "#print(type(n_evolution_day_a))"
      ],
      "execution_count": null,
      "outputs": [
        {
          "output_type": "stream",
          "name": "stdout",
          "text": [
            "<class 'pandas.core.series.Series'>\n"
          ]
        }
      ]
    },
    {
      "cell_type": "code",
      "metadata": {
        "id": "qTp2czMBXN0j"
      },
      "source": [
        "#inactive = pd.DataFrame(evolution_day_a)\n",
        "#inactive"
      ],
      "execution_count": null,
      "outputs": []
    },
    {
      "cell_type": "code",
      "metadata": {
        "id": "l9Fu8DfJc3Tb"
      },
      "source": [
        "inactive_count = inactive_count.rename(columns = {0:'inactive'})"
      ],
      "execution_count": null,
      "outputs": []
    },
    {
      "cell_type": "code",
      "metadata": {
        "colab": {
          "base_uri": "https://localhost:8080/",
          "height": 230
        },
        "id": "7TUyfC5odr1P",
        "outputId": "673a9cf5-e19d-4c34-e8e6-7b377a17e541"
      },
      "source": [
        "inactive_count.head()"
      ],
      "execution_count": null,
      "outputs": [
        {
          "output_type": "execute_result",
          "data": {
            "text/html": [
              "<div>\n",
              "<style scoped>\n",
              "    .dataframe tbody tr th:only-of-type {\n",
              "        vertical-align: middle;\n",
              "    }\n",
              "\n",
              "    .dataframe tbody tr th {\n",
              "        vertical-align: top;\n",
              "    }\n",
              "\n",
              "    .dataframe thead th {\n",
              "        text-align: right;\n",
              "    }\n",
              "</style>\n",
              "<table border=\"1\" class=\"dataframe\">\n",
              "  <thead>\n",
              "    <tr style=\"text-align: right;\">\n",
              "      <th></th>\n",
              "      <th>inactive</th>\n",
              "    </tr>\n",
              "    <tr>\n",
              "      <th>weeknum</th>\n",
              "      <th></th>\n",
              "    </tr>\n",
              "  </thead>\n",
              "  <tbody>\n",
              "    <tr>\n",
              "      <th>1</th>\n",
              "      <td>2048</td>\n",
              "    </tr>\n",
              "    <tr>\n",
              "      <th>2</th>\n",
              "      <td>1880</td>\n",
              "    </tr>\n",
              "    <tr>\n",
              "      <th>3</th>\n",
              "      <td>1801</td>\n",
              "    </tr>\n",
              "    <tr>\n",
              "      <th>4</th>\n",
              "      <td>1826</td>\n",
              "    </tr>\n",
              "    <tr>\n",
              "      <th>5</th>\n",
              "      <td>1978</td>\n",
              "    </tr>\n",
              "  </tbody>\n",
              "</table>\n",
              "</div>"
            ],
            "text/plain": [
              "         inactive\n",
              "weeknum          \n",
              "1            2048\n",
              "2            1880\n",
              "3            1801\n",
              "4            1826\n",
              "5            1978"
            ]
          },
          "metadata": {},
          "execution_count": 36
        }
      ]
    },
    {
      "cell_type": "code",
      "metadata": {
        "colab": {
          "base_uri": "https://localhost:8080/"
        },
        "id": "HYe8M3IYvQ0i",
        "outputId": "a54777ed-3bb6-421e-fc56-485c56ab7ebc"
      },
      "source": [
        "n_evolution_day_b= weekly_data.weeknum.value_counts()\n",
        "#weekly_data.weeknum.count\n",
        "print(n_evolution_day_b)"
      ],
      "execution_count": null,
      "outputs": [
        {
          "output_type": "stream",
          "name": "stdout",
          "text": [
            "1    21102\n",
            "2    21027\n",
            "3    20946\n",
            "4    20901\n",
            "5    20849\n",
            "6    20764\n",
            "7    20719\n",
            "8    20677\n",
            "Name: weeknum, dtype: int64\n"
          ]
        }
      ]
    },
    {
      "cell_type": "code",
      "metadata": {
        "id": "gSNlfu7oXYYW"
      },
      "source": [
        "total_per_week= pd.DataFrame(n_evolution_day_b)"
      ],
      "execution_count": null,
      "outputs": []
    },
    {
      "cell_type": "code",
      "metadata": {
        "id": "9UuS5C9VfeGt"
      },
      "source": [
        "total_per_week = total_per_week.rename(columns = {\"weeknum\":'total_per_week'})"
      ],
      "execution_count": null,
      "outputs": []
    },
    {
      "cell_type": "code",
      "metadata": {
        "colab": {
          "base_uri": "https://localhost:8080/",
          "height": 200
        },
        "id": "5vSw0-dxdnEJ",
        "outputId": "d443c810-fd35-49be-c5e3-a281aa9d1ac4"
      },
      "source": [
        "total_per_week.head()"
      ],
      "execution_count": null,
      "outputs": [
        {
          "output_type": "execute_result",
          "data": {
            "text/html": [
              "<div>\n",
              "<style scoped>\n",
              "    .dataframe tbody tr th:only-of-type {\n",
              "        vertical-align: middle;\n",
              "    }\n",
              "\n",
              "    .dataframe tbody tr th {\n",
              "        vertical-align: top;\n",
              "    }\n",
              "\n",
              "    .dataframe thead th {\n",
              "        text-align: right;\n",
              "    }\n",
              "</style>\n",
              "<table border=\"1\" class=\"dataframe\">\n",
              "  <thead>\n",
              "    <tr style=\"text-align: right;\">\n",
              "      <th></th>\n",
              "      <th>total_per_week</th>\n",
              "    </tr>\n",
              "  </thead>\n",
              "  <tbody>\n",
              "    <tr>\n",
              "      <th>1</th>\n",
              "      <td>21102</td>\n",
              "    </tr>\n",
              "    <tr>\n",
              "      <th>2</th>\n",
              "      <td>21027</td>\n",
              "    </tr>\n",
              "    <tr>\n",
              "      <th>3</th>\n",
              "      <td>20946</td>\n",
              "    </tr>\n",
              "    <tr>\n",
              "      <th>4</th>\n",
              "      <td>20901</td>\n",
              "    </tr>\n",
              "    <tr>\n",
              "      <th>5</th>\n",
              "      <td>20849</td>\n",
              "    </tr>\n",
              "  </tbody>\n",
              "</table>\n",
              "</div>"
            ],
            "text/plain": [
              "   total_per_week\n",
              "1           21102\n",
              "2           21027\n",
              "3           20946\n",
              "4           20901\n",
              "5           20849"
            ]
          },
          "metadata": {},
          "execution_count": 40
        }
      ]
    },
    {
      "cell_type": "code",
      "metadata": {
        "id": "dYxkibWUXpkc"
      },
      "source": [
        "#df_all = pd.concat([inactive, total_per_week], axis=1)"
      ],
      "execution_count": null,
      "outputs": []
    },
    {
      "cell_type": "code",
      "metadata": {
        "colab": {
          "base_uri": "https://localhost:8080/",
          "height": 320
        },
        "id": "-4r8QycDTi7Z",
        "outputId": "8ac6c1ee-ce40-4976-c712-f2bd097eccba"
      },
      "source": [
        "evolution_table= pd.concat([inactive_count, total_per_week.set_index(inactive_count.index)], axis=1)\n",
        "evolution_table"
      ],
      "execution_count": null,
      "outputs": [
        {
          "output_type": "execute_result",
          "data": {
            "text/html": [
              "<div>\n",
              "<style scoped>\n",
              "    .dataframe tbody tr th:only-of-type {\n",
              "        vertical-align: middle;\n",
              "    }\n",
              "\n",
              "    .dataframe tbody tr th {\n",
              "        vertical-align: top;\n",
              "    }\n",
              "\n",
              "    .dataframe thead th {\n",
              "        text-align: right;\n",
              "    }\n",
              "</style>\n",
              "<table border=\"1\" class=\"dataframe\">\n",
              "  <thead>\n",
              "    <tr style=\"text-align: right;\">\n",
              "      <th></th>\n",
              "      <th>inactive</th>\n",
              "      <th>total_per_week</th>\n",
              "    </tr>\n",
              "    <tr>\n",
              "      <th>weeknum</th>\n",
              "      <th></th>\n",
              "      <th></th>\n",
              "    </tr>\n",
              "  </thead>\n",
              "  <tbody>\n",
              "    <tr>\n",
              "      <th>1</th>\n",
              "      <td>2048</td>\n",
              "      <td>21102</td>\n",
              "    </tr>\n",
              "    <tr>\n",
              "      <th>2</th>\n",
              "      <td>1880</td>\n",
              "      <td>21027</td>\n",
              "    </tr>\n",
              "    <tr>\n",
              "      <th>3</th>\n",
              "      <td>1801</td>\n",
              "      <td>20946</td>\n",
              "    </tr>\n",
              "    <tr>\n",
              "      <th>4</th>\n",
              "      <td>1826</td>\n",
              "      <td>20901</td>\n",
              "    </tr>\n",
              "    <tr>\n",
              "      <th>5</th>\n",
              "      <td>1978</td>\n",
              "      <td>20849</td>\n",
              "    </tr>\n",
              "    <tr>\n",
              "      <th>6</th>\n",
              "      <td>2744</td>\n",
              "      <td>20764</td>\n",
              "    </tr>\n",
              "    <tr>\n",
              "      <th>7</th>\n",
              "      <td>3472</td>\n",
              "      <td>20719</td>\n",
              "    </tr>\n",
              "    <tr>\n",
              "      <th>8</th>\n",
              "      <td>3800</td>\n",
              "      <td>20677</td>\n",
              "    </tr>\n",
              "  </tbody>\n",
              "</table>\n",
              "</div>"
            ],
            "text/plain": [
              "         inactive  total_per_week\n",
              "weeknum                          \n",
              "1            2048           21102\n",
              "2            1880           21027\n",
              "3            1801           20946\n",
              "4            1826           20901\n",
              "5            1978           20849\n",
              "6            2744           20764\n",
              "7            3472           20719\n",
              "8            3800           20677"
            ]
          },
          "metadata": {},
          "execution_count": 41
        }
      ]
    },
    {
      "cell_type": "code",
      "metadata": {
        "colab": {
          "base_uri": "https://localhost:8080/"
        },
        "id": "KJlBl7FDgAhq",
        "outputId": "75d91c0e-75b5-4a4e-b363-fe101d47cece"
      },
      "source": [
        "#import pandas as pd\n",
        "#data = {\"col1\":[100,200,300,400,500],\"col2\":[10,20,30,40,50]}\n",
        "#df= pd.DataFrame(data)\n",
        "\n",
        "evolution_table[\"percent\"] = evolution_table[\"inactive\"]/evolution_table[\"total_per_week\"]\n",
        "print(evolution_table)"
      ],
      "execution_count": null,
      "outputs": [
        {
          "output_type": "stream",
          "name": "stdout",
          "text": [
            "         inactive  total_per_week   percent\n",
            "weeknum                                    \n",
            "1            2048           21102  0.097052\n",
            "2            1880           21027  0.089409\n",
            "3            1801           20946  0.085983\n",
            "4            1826           20901  0.087364\n",
            "5            1978           20849  0.094873\n",
            "6            2744           20764  0.132152\n",
            "7            3472           20719  0.167576\n",
            "8            3800           20677  0.183779\n"
          ]
        }
      ]
    },
    {
      "cell_type": "code",
      "metadata": {
        "id": "TMKksmgXaaMC"
      },
      "source": [
        "decimals = 2    \n",
        "evolution_table['percent'] = evolution_table['percent'].apply(lambda x: round(x, decimals))"
      ],
      "execution_count": null,
      "outputs": []
    },
    {
      "cell_type": "code",
      "metadata": {
        "id": "pGEqp4qQieBj"
      },
      "source": [
        "week = [1,2,3,4,5,6,7,8]\n",
        "#import pandas as pd\n",
        "#list_name = ['item_1', 'item_2', 'item_3',...]\n",
        "\n",
        "import pandas as pd\n",
        "#list_name = ['item_1', 'item_2', 'item_3',...]\n",
        "#df = pd.DataFrame (list_name, columns = ['column_name'])\n",
        "\n",
        "weeknumber = pd.DataFrame (week, columns = ['weeknumber'])\n"
      ],
      "execution_count": null,
      "outputs": []
    },
    {
      "cell_type": "code",
      "metadata": {
        "colab": {
          "base_uri": "https://localhost:8080/",
          "height": 290
        },
        "id": "IQ5qwp01kvIY",
        "outputId": "eb33ae2a-5ab7-4df6-a09a-7c6ff9ce0f93"
      },
      "source": [
        "weeknumber"
      ],
      "execution_count": null,
      "outputs": [
        {
          "output_type": "execute_result",
          "data": {
            "text/html": [
              "<div>\n",
              "<style scoped>\n",
              "    .dataframe tbody tr th:only-of-type {\n",
              "        vertical-align: middle;\n",
              "    }\n",
              "\n",
              "    .dataframe tbody tr th {\n",
              "        vertical-align: top;\n",
              "    }\n",
              "\n",
              "    .dataframe thead th {\n",
              "        text-align: right;\n",
              "    }\n",
              "</style>\n",
              "<table border=\"1\" class=\"dataframe\">\n",
              "  <thead>\n",
              "    <tr style=\"text-align: right;\">\n",
              "      <th></th>\n",
              "      <th>weeknumber</th>\n",
              "    </tr>\n",
              "  </thead>\n",
              "  <tbody>\n",
              "    <tr>\n",
              "      <th>0</th>\n",
              "      <td>1</td>\n",
              "    </tr>\n",
              "    <tr>\n",
              "      <th>1</th>\n",
              "      <td>2</td>\n",
              "    </tr>\n",
              "    <tr>\n",
              "      <th>2</th>\n",
              "      <td>3</td>\n",
              "    </tr>\n",
              "    <tr>\n",
              "      <th>3</th>\n",
              "      <td>4</td>\n",
              "    </tr>\n",
              "    <tr>\n",
              "      <th>4</th>\n",
              "      <td>5</td>\n",
              "    </tr>\n",
              "    <tr>\n",
              "      <th>5</th>\n",
              "      <td>6</td>\n",
              "    </tr>\n",
              "    <tr>\n",
              "      <th>6</th>\n",
              "      <td>7</td>\n",
              "    </tr>\n",
              "    <tr>\n",
              "      <th>7</th>\n",
              "      <td>8</td>\n",
              "    </tr>\n",
              "  </tbody>\n",
              "</table>\n",
              "</div>"
            ],
            "text/plain": [
              "   weeknumber\n",
              "0           1\n",
              "1           2\n",
              "2           3\n",
              "3           4\n",
              "4           5\n",
              "5           6\n",
              "6           7\n",
              "7           8"
            ]
          },
          "metadata": {},
          "execution_count": 45
        }
      ]
    },
    {
      "cell_type": "code",
      "metadata": {
        "id": "c1ZJxPthk3lH"
      },
      "source": [
        "#evolution_table= pd.concat([inactive, total_per_week.set_index(inactive.index)], axis=1)\n",
        "#evolution_table"
      ],
      "execution_count": null,
      "outputs": []
    },
    {
      "cell_type": "code",
      "metadata": {
        "colab": {
          "base_uri": "https://localhost:8080/",
          "height": 320
        },
        "id": "D2WceWFYmErz",
        "outputId": "4c3f77cd-0d9e-450f-e4d1-3f9598be56f8"
      },
      "source": [
        "question_2 = pd.concat([evolution_table, weeknumber.set_index(inactive_count.index)], axis = 1)\n",
        "question_2"
      ],
      "execution_count": null,
      "outputs": [
        {
          "output_type": "execute_result",
          "data": {
            "text/html": [
              "<div>\n",
              "<style scoped>\n",
              "    .dataframe tbody tr th:only-of-type {\n",
              "        vertical-align: middle;\n",
              "    }\n",
              "\n",
              "    .dataframe tbody tr th {\n",
              "        vertical-align: top;\n",
              "    }\n",
              "\n",
              "    .dataframe thead th {\n",
              "        text-align: right;\n",
              "    }\n",
              "</style>\n",
              "<table border=\"1\" class=\"dataframe\">\n",
              "  <thead>\n",
              "    <tr style=\"text-align: right;\">\n",
              "      <th></th>\n",
              "      <th>inactive</th>\n",
              "      <th>total_per_week</th>\n",
              "      <th>percent</th>\n",
              "      <th>weeknumber</th>\n",
              "    </tr>\n",
              "    <tr>\n",
              "      <th>weeknum</th>\n",
              "      <th></th>\n",
              "      <th></th>\n",
              "      <th></th>\n",
              "      <th></th>\n",
              "    </tr>\n",
              "  </thead>\n",
              "  <tbody>\n",
              "    <tr>\n",
              "      <th>1</th>\n",
              "      <td>2048</td>\n",
              "      <td>21102</td>\n",
              "      <td>0.10</td>\n",
              "      <td>1</td>\n",
              "    </tr>\n",
              "    <tr>\n",
              "      <th>2</th>\n",
              "      <td>1880</td>\n",
              "      <td>21027</td>\n",
              "      <td>0.09</td>\n",
              "      <td>2</td>\n",
              "    </tr>\n",
              "    <tr>\n",
              "      <th>3</th>\n",
              "      <td>1801</td>\n",
              "      <td>20946</td>\n",
              "      <td>0.09</td>\n",
              "      <td>3</td>\n",
              "    </tr>\n",
              "    <tr>\n",
              "      <th>4</th>\n",
              "      <td>1826</td>\n",
              "      <td>20901</td>\n",
              "      <td>0.09</td>\n",
              "      <td>4</td>\n",
              "    </tr>\n",
              "    <tr>\n",
              "      <th>5</th>\n",
              "      <td>1978</td>\n",
              "      <td>20849</td>\n",
              "      <td>0.09</td>\n",
              "      <td>5</td>\n",
              "    </tr>\n",
              "    <tr>\n",
              "      <th>6</th>\n",
              "      <td>2744</td>\n",
              "      <td>20764</td>\n",
              "      <td>0.13</td>\n",
              "      <td>6</td>\n",
              "    </tr>\n",
              "    <tr>\n",
              "      <th>7</th>\n",
              "      <td>3472</td>\n",
              "      <td>20719</td>\n",
              "      <td>0.17</td>\n",
              "      <td>7</td>\n",
              "    </tr>\n",
              "    <tr>\n",
              "      <th>8</th>\n",
              "      <td>3800</td>\n",
              "      <td>20677</td>\n",
              "      <td>0.18</td>\n",
              "      <td>8</td>\n",
              "    </tr>\n",
              "  </tbody>\n",
              "</table>\n",
              "</div>"
            ],
            "text/plain": [
              "         inactive  total_per_week  percent  weeknumber\n",
              "weeknum                                               \n",
              "1            2048           21102     0.10           1\n",
              "2            1880           21027     0.09           2\n",
              "3            1801           20946     0.09           3\n",
              "4            1826           20901     0.09           4\n",
              "5            1978           20849     0.09           5\n",
              "6            2744           20764     0.13           6\n",
              "7            3472           20719     0.17           7\n",
              "8            3800           20677     0.18           8"
            ]
          },
          "metadata": {},
          "execution_count": 46
        }
      ]
    },
    {
      "cell_type": "code",
      "metadata": {
        "colab": {
          "base_uri": "https://localhost:8080/",
          "height": 331
        },
        "id": "T92VMMFBuTp4",
        "outputId": "e038d2ab-3d50-447b-c1b0-cb2daac97f56"
      },
      "source": [
        "sns.barplot('weeknumber', 'percent', data=question_2, color=\"teal\")\n",
        "plt.show()"
      ],
      "execution_count": null,
      "outputs": [
        {
          "output_type": "stream",
          "name": "stderr",
          "text": [
            "/usr/local/lib/python3.7/dist-packages/seaborn/_decorators.py:43: FutureWarning: Pass the following variables as keyword args: x, y. From version 0.12, the only valid positional argument will be `data`, and passing other arguments without an explicit keyword will result in an error or misinterpretation.\n",
            "  FutureWarning\n"
          ]
        },
        {
          "output_type": "display_data",
          "data": {
            "image/png": "[encoded data removed]",
            "text/plain": [
              "<Figure size 432x288 with 1 Axes>"
            ]
          },
          "metadata": {
            "needs_background": "light"
          }
        }
      ]
    },
    {
      "cell_type": "code",
      "metadata": {
        "colab": {
          "base_uri": "https://localhost:8080/"
        },
        "id": "FDPR60lPxcFg",
        "outputId": "ded276a1-22ae-4f07-ba40-69533f6a67c6"
      },
      "source": [
        "post_data_exp.groupby(\"logindays\")[\"weeknum\"].count()"
      ],
      "execution_count": null,
      "outputs": [
        {
          "output_type": "execute_result",
          "data": {
            "text/plain": [
              "logindays\n",
              "0    77936\n",
              "1    35978\n",
              "2    22264\n",
              "3    13899\n",
              "4     8440\n",
              "5     4867\n",
              "6     2529\n",
              "7     1072\n",
              "Name: weeknum, dtype: int64"
            ]
          },
          "metadata": {},
          "execution_count": 48
        }
      ]
    },
    {
      "cell_type": "code",
      "metadata": {
        "colab": {
          "base_uri": "https://localhost:8080/"
        },
        "id": "Pg3OAv6g3axj",
        "outputId": "706a60ea-f17b-40f8-e769-bc0c1d6c43b3"
      },
      "source": [
        "post_data_exp.logindays.value_counts()"
      ],
      "execution_count": null,
      "outputs": [
        {
          "output_type": "execute_result",
          "data": {
            "text/plain": [
              "0    77936\n",
              "1    35978\n",
              "2    22264\n",
              "3    13899\n",
              "4     8440\n",
              "5     4867\n",
              "6     2529\n",
              "7     1072\n",
              "Name: logindays, dtype: int64"
            ]
          },
          "metadata": {},
          "execution_count": 49
        }
      ]
    },
    {
      "cell_type": "code",
      "metadata": {
        "id": "z3j8bgKu0LhR"
      },
      "source": [
        "evolution_days = post_data_exp.groupby(\"weeknum\")[\"logindays\"].mean()"
      ],
      "execution_count": null,
      "outputs": []
    },
    {
      "cell_type": "code",
      "metadata": {
        "colab": {
          "base_uri": "https://localhost:8080/"
        },
        "id": "4eAsrhPi6GC4",
        "outputId": "2eda1c81-e751-4201-85cf-13cc6de3cd4a"
      },
      "source": [
        "evolution_days"
      ],
      "execution_count": null,
      "outputs": [
        {
          "output_type": "execute_result",
          "data": {
            "text/plain": [
              "weeknum\n",
              "1    1.828926\n",
              "2    1.525134\n",
              "3    1.349327\n",
              "4    1.306110\n",
              "5    1.131181\n",
              "6    0.908833\n",
              "7    0.701578\n",
              "8    0.955651\n",
              "Name: logindays, dtype: float64"
            ]
          },
          "metadata": {},
          "execution_count": 51
        }
      ]
    },
    {
      "cell_type": "code",
      "metadata": {
        "id": "HRwG9sw27alt"
      },
      "source": [
        "#weeknumber = pd.DataFrame (week, columns = ['weeknumber'])\n",
        "#days_login_mean = pd.DataFrame (evolution_days, columns = ['days_login_mean'])\n",
        "#days_login_mean"
      ],
      "execution_count": null,
      "outputs": []
    },
    {
      "cell_type": "code",
      "metadata": {
        "colab": {
          "base_uri": "https://localhost:8080/",
          "height": 320
        },
        "id": "GbBjHHLb8Ec4",
        "outputId": "7d7ea9a1-c781-4736-8949-20b7ca8d9876"
      },
      "source": [
        "#evolution_table= pd.concat([inactive_count, total_per_week.set_index(inactive_count.index)], axis=1)\n",
        "#evolution_table\n",
        "\n",
        "#frames = [question, df2]\n",
        "  \n",
        "#result = pd.concat(frames)\n",
        "#display(result)\n",
        "\n",
        "\n",
        "evolution_table_2= pd.concat([question_2, evolution_days], axis = 1)\n",
        "evolution_table_2\n",
        "\n",
        "#horizontal_concat = pd.concat([df3, df4], axis=1)"
      ],
      "execution_count": null,
      "outputs": [
        {
          "output_type": "execute_result",
          "data": {
            "text/html": [
              "<div>\n",
              "<style scoped>\n",
              "    .dataframe tbody tr th:only-of-type {\n",
              "        vertical-align: middle;\n",
              "    }\n",
              "\n",
              "    .dataframe tbody tr th {\n",
              "        vertical-align: top;\n",
              "    }\n",
              "\n",
              "    .dataframe thead th {\n",
              "        text-align: right;\n",
              "    }\n",
              "</style>\n",
              "<table border=\"1\" class=\"dataframe\">\n",
              "  <thead>\n",
              "    <tr style=\"text-align: right;\">\n",
              "      <th></th>\n",
              "      <th>inactive</th>\n",
              "      <th>total_per_week</th>\n",
              "      <th>percent</th>\n",
              "      <th>weeknumber</th>\n",
              "      <th>logindays</th>\n",
              "    </tr>\n",
              "    <tr>\n",
              "      <th>weeknum</th>\n",
              "      <th></th>\n",
              "      <th></th>\n",
              "      <th></th>\n",
              "      <th></th>\n",
              "      <th></th>\n",
              "    </tr>\n",
              "  </thead>\n",
              "  <tbody>\n",
              "    <tr>\n",
              "      <th>1</th>\n",
              "      <td>2048</td>\n",
              "      <td>21102</td>\n",
              "      <td>0.10</td>\n",
              "      <td>1</td>\n",
              "      <td>1.828926</td>\n",
              "    </tr>\n",
              "    <tr>\n",
              "      <th>2</th>\n",
              "      <td>1880</td>\n",
              "      <td>21027</td>\n",
              "      <td>0.09</td>\n",
              "      <td>2</td>\n",
              "      <td>1.525134</td>\n",
              "    </tr>\n",
              "    <tr>\n",
              "      <th>3</th>\n",
              "      <td>1801</td>\n",
              "      <td>20946</td>\n",
              "      <td>0.09</td>\n",
              "      <td>3</td>\n",
              "      <td>1.349327</td>\n",
              "    </tr>\n",
              "    <tr>\n",
              "      <th>4</th>\n",
              "      <td>1826</td>\n",
              "      <td>20901</td>\n",
              "      <td>0.09</td>\n",
              "      <td>4</td>\n",
              "      <td>1.306110</td>\n",
              "    </tr>\n",
              "    <tr>\n",
              "      <th>5</th>\n",
              "      <td>1978</td>\n",
              "      <td>20849</td>\n",
              "      <td>0.09</td>\n",
              "      <td>5</td>\n",
              "      <td>1.131181</td>\n",
              "    </tr>\n",
              "    <tr>\n",
              "      <th>6</th>\n",
              "      <td>2744</td>\n",
              "      <td>20764</td>\n",
              "      <td>0.13</td>\n",
              "      <td>6</td>\n",
              "      <td>0.908833</td>\n",
              "    </tr>\n",
              "    <tr>\n",
              "      <th>7</th>\n",
              "      <td>3472</td>\n",
              "      <td>20719</td>\n",
              "      <td>0.17</td>\n",
              "      <td>7</td>\n",
              "      <td>0.701578</td>\n",
              "    </tr>\n",
              "    <tr>\n",
              "      <th>8</th>\n",
              "      <td>3800</td>\n",
              "      <td>20677</td>\n",
              "      <td>0.18</td>\n",
              "      <td>8</td>\n",
              "      <td>0.955651</td>\n",
              "    </tr>\n",
              "  </tbody>\n",
              "</table>\n",
              "</div>"
            ],
            "text/plain": [
              "         inactive  total_per_week  percent  weeknumber  logindays\n",
              "weeknum                                                          \n",
              "1            2048           21102     0.10           1   1.828926\n",
              "2            1880           21027     0.09           2   1.525134\n",
              "3            1801           20946     0.09           3   1.349327\n",
              "4            1826           20901     0.09           4   1.306110\n",
              "5            1978           20849     0.09           5   1.131181\n",
              "6            2744           20764     0.13           6   0.908833\n",
              "7            3472           20719     0.17           7   0.701578\n",
              "8            3800           20677     0.18           8   0.955651"
            ]
          },
          "metadata": {},
          "execution_count": 52
        }
      ]
    },
    {
      "cell_type": "code",
      "metadata": {
        "id": "MvQSxu5e_gkr"
      },
      "source": [
        "decimals = 2    \n",
        "#evolution_table_2['logindays'] = evolution_table_2['logindays'].apply(lambda x: round(x, decimals), axis = 1)\n",
        "evolution_table_2['logindays'] = evolution_table_2['logindays'].apply(lambda x: round(x, decimals))"
      ],
      "execution_count": null,
      "outputs": []
    },
    {
      "cell_type": "code",
      "metadata": {
        "colab": {
          "base_uri": "https://localhost:8080/",
          "height": 320
        },
        "id": "EvXgUuND_BMt",
        "outputId": "a73dc318-801f-49c6-a751-0e8f6df21fce"
      },
      "source": [
        "evolution_table_2"
      ],
      "execution_count": null,
      "outputs": [
        {
          "output_type": "execute_result",
          "data": {
            "text/html": [
              "<div>\n",
              "<style scoped>\n",
              "    .dataframe tbody tr th:only-of-type {\n",
              "        vertical-align: middle;\n",
              "    }\n",
              "\n",
              "    .dataframe tbody tr th {\n",
              "        vertical-align: top;\n",
              "    }\n",
              "\n",
              "    .dataframe thead th {\n",
              "        text-align: right;\n",
              "    }\n",
              "</style>\n",
              "<table border=\"1\" class=\"dataframe\">\n",
              "  <thead>\n",
              "    <tr style=\"text-align: right;\">\n",
              "      <th></th>\n",
              "      <th>inactive</th>\n",
              "      <th>total_per_week</th>\n",
              "      <th>percent</th>\n",
              "      <th>weeknumber</th>\n",
              "      <th>logindays</th>\n",
              "    </tr>\n",
              "    <tr>\n",
              "      <th>weeknum</th>\n",
              "      <th></th>\n",
              "      <th></th>\n",
              "      <th></th>\n",
              "      <th></th>\n",
              "      <th></th>\n",
              "    </tr>\n",
              "  </thead>\n",
              "  <tbody>\n",
              "    <tr>\n",
              "      <th>1</th>\n",
              "      <td>2048</td>\n",
              "      <td>21102</td>\n",
              "      <td>0.10</td>\n",
              "      <td>1</td>\n",
              "      <td>1.83</td>\n",
              "    </tr>\n",
              "    <tr>\n",
              "      <th>2</th>\n",
              "      <td>1880</td>\n",
              "      <td>21027</td>\n",
              "      <td>0.09</td>\n",
              "      <td>2</td>\n",
              "      <td>1.53</td>\n",
              "    </tr>\n",
              "    <tr>\n",
              "      <th>3</th>\n",
              "      <td>1801</td>\n",
              "      <td>20946</td>\n",
              "      <td>0.09</td>\n",
              "      <td>3</td>\n",
              "      <td>1.35</td>\n",
              "    </tr>\n",
              "    <tr>\n",
              "      <th>4</th>\n",
              "      <td>1826</td>\n",
              "      <td>20901</td>\n",
              "      <td>0.09</td>\n",
              "      <td>4</td>\n",
              "      <td>1.31</td>\n",
              "    </tr>\n",
              "    <tr>\n",
              "      <th>5</th>\n",
              "      <td>1978</td>\n",
              "      <td>20849</td>\n",
              "      <td>0.09</td>\n",
              "      <td>5</td>\n",
              "      <td>1.13</td>\n",
              "    </tr>\n",
              "    <tr>\n",
              "      <th>6</th>\n",
              "      <td>2744</td>\n",
              "      <td>20764</td>\n",
              "      <td>0.13</td>\n",
              "      <td>6</td>\n",
              "      <td>0.91</td>\n",
              "    </tr>\n",
              "    <tr>\n",
              "      <th>7</th>\n",
              "      <td>3472</td>\n",
              "      <td>20719</td>\n",
              "      <td>0.17</td>\n",
              "      <td>7</td>\n",
              "      <td>0.70</td>\n",
              "    </tr>\n",
              "    <tr>\n",
              "      <th>8</th>\n",
              "      <td>3800</td>\n",
              "      <td>20677</td>\n",
              "      <td>0.18</td>\n",
              "      <td>8</td>\n",
              "      <td>0.96</td>\n",
              "    </tr>\n",
              "  </tbody>\n",
              "</table>\n",
              "</div>"
            ],
            "text/plain": [
              "         inactive  total_per_week  percent  weeknumber  logindays\n",
              "weeknum                                                          \n",
              "1            2048           21102     0.10           1       1.83\n",
              "2            1880           21027     0.09           2       1.53\n",
              "3            1801           20946     0.09           3       1.35\n",
              "4            1826           20901     0.09           4       1.31\n",
              "5            1978           20849     0.09           5       1.13\n",
              "6            2744           20764     0.13           6       0.91\n",
              "7            3472           20719     0.17           7       0.70\n",
              "8            3800           20677     0.18           8       0.96"
            ]
          },
          "metadata": {},
          "execution_count": 54
        }
      ]
    },
    {
      "cell_type": "code",
      "metadata": {
        "colab": {
          "base_uri": "https://localhost:8080/",
          "height": 331
        },
        "id": "v0aFCvMDAmnX",
        "outputId": "6077a4c2-adbf-4db0-9574-0b6a0993361c"
      },
      "source": [
        "sns.barplot('weeknumber', 'logindays', data=evolution_table_2, color=\"teal\")\n",
        "plt.show()"
      ],
      "execution_count": null,
      "outputs": [
        {
          "output_type": "stream",
          "name": "stderr",
          "text": [
            "/usr/local/lib/python3.7/dist-packages/seaborn/_decorators.py:43: FutureWarning: Pass the following variables as keyword args: x, y. From version 0.12, the only valid positional argument will be `data`, and passing other arguments without an explicit keyword will result in an error or misinterpretation.\n",
            "  FutureWarning\n"
          ]
        },
        {
          "output_type": "display_data",
          "data": {
            "image/png": "[encoded data removed]",
            "text/plain": [
              "<Figure size 432x288 with 1 Axes>"
            ]
          },
          "metadata": {
            "needs_background": "light"
          }
        }
      ]
    },
    {
      "cell_type": "code",
      "metadata": {
        "id": "ocOdEJQHA-P3"
      },
      "source": [
        "pre_data_exp.\n",
        "\n",
        "#post_data_exp.groupby(\"logindays\")[\"weeknum\"].count()"
      ],
      "execution_count": null,
      "outputs": []
    },
    {
      "cell_type": "code",
      "metadata": {
        "colab": {
          "base_uri": "https://localhost:8080/"
        },
        "id": "Ya2_VhltF8p_",
        "outputId": "9bfbddf0-41e8-4ff9-dd3a-df7f0410b403"
      },
      "source": [
        "post_data_exp.playtime.value_counts()"
      ],
      "execution_count": null,
      "outputs": [
        {
          "output_type": "execute_result",
          "data": {
            "text/plain": [
              "0           84333\n",
              "300000         55\n",
              "15000          42\n",
              "775000         41\n",
              "9000           40\n",
              "            ...  \n",
              "10411000        1\n",
              "13811000        1\n",
              "15021061        1\n",
              "9236000         1\n",
              "4005197         1\n",
              "Name: playtime, Length: 13125, dtype: int64"
            ]
          },
          "metadata": {},
          "execution_count": 117
        }
      ]
    },
    {
      "cell_type": "code",
      "metadata": {
        "colab": {
          "base_uri": "https://localhost:8080/"
        },
        "id": "jAr9u6YMGmZt",
        "outputId": "1097af80-ba58-4c4d-eb7f-019845a422f0"
      },
      "source": [
        "pre_data_exp.playtime.value_counts()"
      ],
      "execution_count": null,
      "outputs": [
        {
          "output_type": "execute_result",
          "data": {
            "text/plain": [
              "0           8738\n",
              "300000         9\n",
              "25000          9\n",
              "683000         9\n",
              "776000         9\n",
              "            ... \n",
              "1739000        1\n",
              "13208000       1\n",
              "31308000       1\n",
              "5058000        1\n",
              "12225000       1\n",
              "Name: playtime, Length: 6613, dtype: int64"
            ]
          },
          "metadata": {},
          "execution_count": 116
        }
      ]
    },
    {
      "cell_type": "code",
      "metadata": {
        "id": "9uDFgpbRJaoV"
      },
      "source": [
        "import datetime\n",
        "#datetime.timedelta()"
      ],
      "execution_count": null,
      "outputs": []
    },
    {
      "cell_type": "code",
      "metadata": {
        "id": "WQP2H5JHJxeX"
      },
      "source": [
        "#pre_data_exp['playtime'] = pre_data_exp.to_datetime(pre_data_exp['playtime'], unit='s')\n",
        "#pd.to_datetime(pre_data_exp['playtime'], unit='s')"
      ],
      "execution_count": null,
      "outputs": []
    },
    {
      "cell_type": "code",
      "metadata": {
        "id": "_fS8jlK3RXpF"
      },
      "source": [
        "#pre_data_exp['playtime'].astype('datetime64[s]')"
      ],
      "execution_count": null,
      "outputs": []
    },
    {
      "cell_type": "code",
      "metadata": {
        "colab": {
          "base_uri": "https://localhost:8080/"
        },
        "id": "_lN4enQBah8P",
        "outputId": "2ed87483-2c3a-4126-ab4a-17750c86a26d"
      },
      "source": [
        "#millis=input()\n",
        "#def convertor(x):\n",
        "#    millis = int(millis)\n",
        "#    seconds=(millis/1000)%60\n",
        "#    seconds = int(seconds)\n",
        "#    minutes=(millis/(1000*60))%60\n",
        "#    minutes = int(minutes)\n",
        "#    hours=(millis/(1000*60*60))%24\n",
        "\n",
        "    return(convertor(300000))\n",
        "print (\"%d:%d:%d\" % (hours, minutes, seconds))"
      ],
      "execution_count": null,
      "outputs": [
        {
          "output_type": "stream",
          "name": "stdout",
          "text": [
            "0:5:0\n"
          ]
        }
      ]
    },
    {
      "cell_type": "code",
      "metadata": {
        "id": "QO7vlta-baIf"
      },
      "source": [
        "#print(convertor(300000))"
      ],
      "execution_count": null,
      "outputs": []
    },
    {
      "cell_type": "code",
      "metadata": {
        "colab": {
          "base_uri": "https://localhost:8080/"
        },
        "id": "EQU9sUyXcxy8",
        "outputId": "2f3787bb-c850-4f19-af98-a4a0e1e50979"
      },
      "source": [
        "#def convertMillis(millis):\n",
        "     #seconds=(millis/1000)%60\n",
        "     minutes=(millis/(1000*60))%60\n",
        "     #hours=(millis/(1000*60*60))%24\n",
        "     return #seconds, minutes #hours\n",
        "#print(convertMillis(300000))"
      ],
      "execution_count": null,
      "outputs": [
        {
          "output_type": "stream",
          "name": "stdout",
          "text": [
            "(0.0, 5.0)\n"
          ]
        }
      ]
    },
    {
      "cell_type": "code",
      "metadata": {
        "colab": {
          "base_uri": "https://localhost:8080/"
        },
        "id": "Owe8FIESdii0",
        "outputId": "77b5ccb8-0629-4c13-a94f-a15c842997da"
      },
      "source": [
        "def convertMillis(millis):\n",
        "     #seconds=(millis/1000)%60\n",
        "     minutes=(millis/(1000*60))%60\n",
        "    \n",
        "     return minutes\n",
        "print(convertMillis(300000))"
      ],
      "execution_count": null,
      "outputs": [
        {
          "output_type": "stream",
          "name": "stdout",
          "text": [
            "5.0\n"
          ]
        }
      ]
    },
    {
      "cell_type": "code",
      "metadata": {
        "colab": {
          "base_uri": "https://localhost:8080/"
        },
        "id": "pHB4brF3d1RT",
        "outputId": "742de21f-1f1f-4512-e4b8-5842cf75030b"
      },
      "source": [
        "pre_data_exp['minutes'] = pre_data_exp['playtime'].apply(convertMillis)"
      ],
      "execution_count": null,
      "outputs": [
        {
          "output_type": "stream",
          "name": "stderr",
          "text": [
            "/usr/local/lib/python3.7/dist-packages/ipykernel_launcher.py:1: SettingWithCopyWarning: \n",
            "A value is trying to be set on a copy of a slice from a DataFrame.\n",
            "Try using .loc[row_indexer,col_indexer] = value instead\n",
            "\n",
            "See the caveats in the documentation: https://pandas.pydata.org/pandas-docs/stable/user_guide/indexing.html#returning-a-view-versus-a-copy\n",
            "  \"\"\"Entry point for launching an IPython kernel.\n"
          ]
        }
      ]
    },
    {
      "cell_type": "code",
      "metadata": {
        "colab": {
          "base_uri": "https://localhost:8080/",
          "height": 200
        },
        "id": "EHuzmdRee80X",
        "outputId": "7431e381-09d7-4b36-f8a6-21e5c2866dba"
      },
      "source": [
        "pre_data_exp.head()"
      ],
      "execution_count": null,
      "outputs": [
        {
          "output_type": "execute_result",
          "data": {
            "text/html": [
              "<div>\n",
              "<style scoped>\n",
              "    .dataframe tbody tr th:only-of-type {\n",
              "        vertical-align: middle;\n",
              "    }\n",
              "\n",
              "    .dataframe tbody tr th {\n",
              "        vertical-align: top;\n",
              "    }\n",
              "\n",
              "    .dataframe thead th {\n",
              "        text-align: right;\n",
              "    }\n",
              "</style>\n",
              "<table border=\"1\" class=\"dataframe\">\n",
              "  <thead>\n",
              "    <tr style=\"text-align: right;\">\n",
              "      <th></th>\n",
              "      <th>userid</th>\n",
              "      <th>weeknum</th>\n",
              "      <th>educationclass</th>\n",
              "      <th>weekssinceregistration</th>\n",
              "      <th>regularityactivity</th>\n",
              "      <th>logindays</th>\n",
              "      <th>playtime</th>\n",
              "      <th>receivedMailing</th>\n",
              "      <th>minutes</th>\n",
              "    </tr>\n",
              "  </thead>\n",
              "  <tbody>\n",
              "    <tr>\n",
              "      <th>0</th>\n",
              "      <td>174008</td>\n",
              "      <td>201902</td>\n",
              "      <td>7</td>\n",
              "      <td>333</td>\n",
              "      <td>consistently inactive</td>\n",
              "      <td>0</td>\n",
              "      <td>0</td>\n",
              "      <td>1</td>\n",
              "      <td>0.000000</td>\n",
              "    </tr>\n",
              "    <tr>\n",
              "      <th>1</th>\n",
              "      <td>176325</td>\n",
              "      <td>201902</td>\n",
              "      <td>7</td>\n",
              "      <td>332</td>\n",
              "      <td>inconsistently active</td>\n",
              "      <td>3</td>\n",
              "      <td>5772000</td>\n",
              "      <td>1</td>\n",
              "      <td>36.200000</td>\n",
              "    </tr>\n",
              "    <tr>\n",
              "      <th>2</th>\n",
              "      <td>176609</td>\n",
              "      <td>201902</td>\n",
              "      <td>8</td>\n",
              "      <td>332</td>\n",
              "      <td>consistently active</td>\n",
              "      <td>6</td>\n",
              "      <td>5395000</td>\n",
              "      <td>1</td>\n",
              "      <td>29.916667</td>\n",
              "    </tr>\n",
              "    <tr>\n",
              "      <th>3</th>\n",
              "      <td>182218</td>\n",
              "      <td>201902</td>\n",
              "      <td>8</td>\n",
              "      <td>331</td>\n",
              "      <td>consistently inactive</td>\n",
              "      <td>0</td>\n",
              "      <td>0</td>\n",
              "      <td>1</td>\n",
              "      <td>0.000000</td>\n",
              "    </tr>\n",
              "    <tr>\n",
              "      <th>4</th>\n",
              "      <td>182226</td>\n",
              "      <td>201902</td>\n",
              "      <td>6</td>\n",
              "      <td>331</td>\n",
              "      <td>consistently active</td>\n",
              "      <td>2</td>\n",
              "      <td>1401000</td>\n",
              "      <td>1</td>\n",
              "      <td>23.350000</td>\n",
              "    </tr>\n",
              "  </tbody>\n",
              "</table>\n",
              "</div>"
            ],
            "text/plain": [
              "   userid  weeknum  educationclass  ...  playtime receivedMailing    minutes\n",
              "0  174008   201902               7  ...         0               1   0.000000\n",
              "1  176325   201902               7  ...   5772000               1  36.200000\n",
              "2  176609   201902               8  ...   5395000               1  29.916667\n",
              "3  182218   201902               8  ...         0               1   0.000000\n",
              "4  182226   201902               6  ...   1401000               1  23.350000\n",
              "\n",
              "[5 rows x 9 columns]"
            ]
          },
          "metadata": {},
          "execution_count": 58
        }
      ]
    },
    {
      "cell_type": "code",
      "metadata": {
        "colab": {
          "base_uri": "https://localhost:8080/"
        },
        "id": "mffdfVmpfQEU",
        "outputId": "d5084822-7fc1-4d97-9287-3a11061266c3"
      },
      "source": [
        "decimals = 0    \n",
        "#evolution_table_2['logindays'] = evolution_table_2['logindays'].apply(lambda x: round(x, decimals), axis = 1)\n",
        "pre_data_exp['minutes'] = pre_data_exp['minutes'].apply(lambda x: round(x, decimals))"
      ],
      "execution_count": null,
      "outputs": [
        {
          "output_type": "stream",
          "name": "stderr",
          "text": [
            "/usr/local/lib/python3.7/dist-packages/ipykernel_launcher.py:3: SettingWithCopyWarning: \n",
            "A value is trying to be set on a copy of a slice from a DataFrame.\n",
            "Try using .loc[row_indexer,col_indexer] = value instead\n",
            "\n",
            "See the caveats in the documentation: https://pandas.pydata.org/pandas-docs/stable/user_guide/indexing.html#returning-a-view-versus-a-copy\n",
            "  This is separate from the ipykernel package so we can avoid doing imports until\n"
          ]
        }
      ]
    },
    {
      "cell_type": "code",
      "metadata": {
        "colab": {
          "base_uri": "https://localhost:8080/",
          "height": 200
        },
        "id": "43tSqPFifiZ-",
        "outputId": "a63c7357-e561-47e9-89d7-57c4c52f4e59"
      },
      "source": [
        "pre_data_exp.head()"
      ],
      "execution_count": null,
      "outputs": [
        {
          "output_type": "execute_result",
          "data": {
            "text/html": [
              "<div>\n",
              "<style scoped>\n",
              "    .dataframe tbody tr th:only-of-type {\n",
              "        vertical-align: middle;\n",
              "    }\n",
              "\n",
              "    .dataframe tbody tr th {\n",
              "        vertical-align: top;\n",
              "    }\n",
              "\n",
              "    .dataframe thead th {\n",
              "        text-align: right;\n",
              "    }\n",
              "</style>\n",
              "<table border=\"1\" class=\"dataframe\">\n",
              "  <thead>\n",
              "    <tr style=\"text-align: right;\">\n",
              "      <th></th>\n",
              "      <th>userid</th>\n",
              "      <th>weeknum</th>\n",
              "      <th>educationclass</th>\n",
              "      <th>weekssinceregistration</th>\n",
              "      <th>regularityactivity</th>\n",
              "      <th>logindays</th>\n",
              "      <th>playtime</th>\n",
              "      <th>receivedMailing</th>\n",
              "      <th>minutes</th>\n",
              "    </tr>\n",
              "  </thead>\n",
              "  <tbody>\n",
              "    <tr>\n",
              "      <th>0</th>\n",
              "      <td>174008</td>\n",
              "      <td>201902</td>\n",
              "      <td>7</td>\n",
              "      <td>333</td>\n",
              "      <td>consistently inactive</td>\n",
              "      <td>0</td>\n",
              "      <td>0</td>\n",
              "      <td>1</td>\n",
              "      <td>0.0</td>\n",
              "    </tr>\n",
              "    <tr>\n",
              "      <th>1</th>\n",
              "      <td>176325</td>\n",
              "      <td>201902</td>\n",
              "      <td>7</td>\n",
              "      <td>332</td>\n",
              "      <td>inconsistently active</td>\n",
              "      <td>3</td>\n",
              "      <td>5772000</td>\n",
              "      <td>1</td>\n",
              "      <td>36.0</td>\n",
              "    </tr>\n",
              "    <tr>\n",
              "      <th>2</th>\n",
              "      <td>176609</td>\n",
              "      <td>201902</td>\n",
              "      <td>8</td>\n",
              "      <td>332</td>\n",
              "      <td>consistently active</td>\n",
              "      <td>6</td>\n",
              "      <td>5395000</td>\n",
              "      <td>1</td>\n",
              "      <td>30.0</td>\n",
              "    </tr>\n",
              "    <tr>\n",
              "      <th>3</th>\n",
              "      <td>182218</td>\n",
              "      <td>201902</td>\n",
              "      <td>8</td>\n",
              "      <td>331</td>\n",
              "      <td>consistently inactive</td>\n",
              "      <td>0</td>\n",
              "      <td>0</td>\n",
              "      <td>1</td>\n",
              "      <td>0.0</td>\n",
              "    </tr>\n",
              "    <tr>\n",
              "      <th>4</th>\n",
              "      <td>182226</td>\n",
              "      <td>201902</td>\n",
              "      <td>6</td>\n",
              "      <td>331</td>\n",
              "      <td>consistently active</td>\n",
              "      <td>2</td>\n",
              "      <td>1401000</td>\n",
              "      <td>1</td>\n",
              "      <td>23.0</td>\n",
              "    </tr>\n",
              "  </tbody>\n",
              "</table>\n",
              "</div>"
            ],
            "text/plain": [
              "   userid  weeknum  educationclass  ...  playtime receivedMailing  minutes\n",
              "0  174008   201902               7  ...         0               1      0.0\n",
              "1  176325   201902               7  ...   5772000               1     36.0\n",
              "2  176609   201902               8  ...   5395000               1     30.0\n",
              "3  182218   201902               8  ...         0               1      0.0\n",
              "4  182226   201902               6  ...   1401000               1     23.0\n",
              "\n",
              "[5 rows x 9 columns]"
            ]
          },
          "metadata": {},
          "execution_count": 60
        }
      ]
    },
    {
      "cell_type": "code",
      "metadata": {
        "colab": {
          "base_uri": "https://localhost:8080/"
        },
        "id": "QkR1gy2UfpCq",
        "outputId": "476f4b23-f49f-4364-9df2-f642b8c0dc74"
      },
      "source": [
        "post_data_exp['minutes'] = post_data_exp['playtime'].apply(convertMillis)"
      ],
      "execution_count": null,
      "outputs": [
        {
          "output_type": "stream",
          "name": "stderr",
          "text": [
            "/usr/local/lib/python3.7/dist-packages/ipykernel_launcher.py:1: SettingWithCopyWarning: \n",
            "A value is trying to be set on a copy of a slice from a DataFrame.\n",
            "Try using .loc[row_indexer,col_indexer] = value instead\n",
            "\n",
            "See the caveats in the documentation: https://pandas.pydata.org/pandas-docs/stable/user_guide/indexing.html#returning-a-view-versus-a-copy\n",
            "  \"\"\"Entry point for launching an IPython kernel.\n"
          ]
        }
      ]
    },
    {
      "cell_type": "code",
      "metadata": {
        "colab": {
          "base_uri": "https://localhost:8080/"
        },
        "id": "Xd5P8hBzgAN5",
        "outputId": "99fb52ab-b591-4c74-f076-2506595e2085"
      },
      "source": [
        "decimals = 0    \n",
        "#evolution_table_2['logindays'] = evolution_table_2['logindays'].apply(lambda x: round(x, decimals), axis = 1)\n",
        "post_data_exp['minutes'] = post_data_exp['minutes'].apply(lambda x: round(x, decimals))"
      ],
      "execution_count": null,
      "outputs": [
        {
          "output_type": "stream",
          "name": "stderr",
          "text": [
            "/usr/local/lib/python3.7/dist-packages/ipykernel_launcher.py:3: SettingWithCopyWarning: \n",
            "A value is trying to be set on a copy of a slice from a DataFrame.\n",
            "Try using .loc[row_indexer,col_indexer] = value instead\n",
            "\n",
            "See the caveats in the documentation: https://pandas.pydata.org/pandas-docs/stable/user_guide/indexing.html#returning-a-view-versus-a-copy\n",
            "  This is separate from the ipykernel package so we can avoid doing imports until\n"
          ]
        }
      ]
    },
    {
      "cell_type": "code",
      "metadata": {
        "colab": {
          "base_uri": "https://localhost:8080/"
        },
        "id": "NI_GkMuhgMld",
        "outputId": "105b3dd7-0b85-4b5c-c735-cdbeb1673de0"
      },
      "source": [
        "post_data_exp.dtypes"
      ],
      "execution_count": null,
      "outputs": [
        {
          "output_type": "execute_result",
          "data": {
            "text/plain": [
              "userid                      int64\n",
              "weeknum                     int64\n",
              "educationclass              int64\n",
              "weekssinceregistration      int64\n",
              "regularityactivity         object\n",
              "logindays                   int64\n",
              "playtime                    int64\n",
              "receivedMailing             int64\n",
              "minutes                   float64\n",
              "dtype: object"
            ]
          },
          "metadata": {},
          "execution_count": 156
        }
      ]
    },
    {
      "cell_type": "code",
      "metadata": {
        "colab": {
          "base_uri": "https://localhost:8080/"
        },
        "id": "SH2jNdsbg3NE",
        "outputId": "64288feb-13ee-48d6-eee8-f046d8abf3b1"
      },
      "source": [
        "pre_data_exp.minutes.value_counts()"
      ],
      "execution_count": null,
      "outputs": [
        {
          "output_type": "execute_result",
          "data": {
            "text/plain": [
              "0.0     8943\n",
              "10.0     310\n",
              "12.0     303\n",
              "1.0      303\n",
              "2.0      302\n",
              "        ... \n",
              "53.0     119\n",
              "59.0     109\n",
              "55.0     106\n",
              "57.0     104\n",
              "60.0      65\n",
              "Name: minutes, Length: 61, dtype: int64"
            ]
          },
          "metadata": {},
          "execution_count": 157
        }
      ]
    },
    {
      "cell_type": "code",
      "metadata": {
        "colab": {
          "base_uri": "https://localhost:8080/"
        },
        "id": "8tAeHwxehohs",
        "outputId": "2e59cc08-3c59-4eee-9ae9-490f1b8719b6"
      },
      "source": [
        "pre_data_exp[\"minutes\"].describe()"
      ],
      "execution_count": null,
      "outputs": [
        {
          "output_type": "execute_result",
          "data": {
            "text/plain": [
              "count    21137.000000\n",
              "mean        14.647301\n",
              "std         17.694496\n",
              "min          0.000000\n",
              "25%          0.000000\n",
              "50%          6.000000\n",
              "75%         27.000000\n",
              "max         60.000000\n",
              "Name: minutes, dtype: float64"
            ]
          },
          "metadata": {},
          "execution_count": 63
        }
      ]
    },
    {
      "cell_type": "code",
      "metadata": {
        "colab": {
          "base_uri": "https://localhost:8080/"
        },
        "id": "TSQdLCa4g-Vt",
        "outputId": "67b2d6bb-f8c5-4960-b08c-46c1b015ef43"
      },
      "source": [
        "post_data_exp.minutes.value_counts()"
      ],
      "execution_count": null,
      "outputs": [
        {
          "output_type": "execute_result",
          "data": {
            "text/plain": [
              "0.0     85522\n",
              "1.0      2298\n",
              "14.0     2052\n",
              "12.0     2049\n",
              "8.0      2026\n",
              "        ...  \n",
              "56.0      694\n",
              "58.0      676\n",
              "57.0      675\n",
              "59.0      613\n",
              "60.0      357\n",
              "Name: minutes, Length: 61, dtype: int64"
            ]
          },
          "metadata": {},
          "execution_count": 64
        }
      ]
    },
    {
      "cell_type": "code",
      "metadata": {
        "colab": {
          "base_uri": "https://localhost:8080/"
        },
        "id": "oFMzegWehTe3",
        "outputId": "c3f4dd1f-110b-4924-8ffd-d8d5d477fc1c"
      },
      "source": [
        "post_data_exp[\"minutes\"].describe()"
      ],
      "execution_count": null,
      "outputs": [
        {
          "output_type": "execute_result",
          "data": {
            "text/plain": [
              "count    166985.000000\n",
              "mean         11.784508\n",
              "std          16.445634\n",
              "min           0.000000\n",
              "25%           0.000000\n",
              "50%           0.000000\n",
              "75%          21.000000\n",
              "max          60.000000\n",
              "Name: minutes, dtype: float64"
            ]
          },
          "metadata": {},
          "execution_count": 65
        }
      ]
    },
    {
      "cell_type": "code",
      "metadata": {
        "id": "teYPiIxa0eUO"
      },
      "source": [
        ""
      ],
      "execution_count": null,
      "outputs": []
    },
    {
      "cell_type": "markdown",
      "metadata": {
        "id": "WlJy20800e84"
      },
      "source": [
        "Given the mean in the minutes column, I may want to compare if pre and post experimental datasets are statisticall different. \n",
        "Only with the descriptives it can be seen that the minutes column in the pre exp set is 15 whereas in the post exp set is 12. A possible solution is to take a sample of both. another solution is to take the 1st week before 201903 (so 201902 or pre_data_exp) and compare to 201903(which is first_week_exp). \n",
        "that comparison should be enough to compare other features. \n",
        "\n"
      ]
    },
    {
      "cell_type": "code",
      "metadata": {
        "colab": {
          "base_uri": "https://localhost:8080/"
        },
        "id": "Cf609YKRiuWY",
        "outputId": "6309cf11-8407-47ec-f053-5432dcc837be"
      },
      "source": [
        "#pre_data_exp\n",
        "post_data_exp.groupby(\"educationclass\")[\"regularityactivity\"].count()"
      ],
      "execution_count": null,
      "outputs": [
        {
          "output_type": "execute_result",
          "data": {
            "text/plain": [
              "educationclass\n",
              "1    13584\n",
              "2    20146\n",
              "3    31443\n",
              "4    29765\n",
              "5    25377\n",
              "6    19084\n",
              "7    15562\n",
              "8    12024\n",
              "Name: regularityactivity, dtype: int64"
            ]
          },
          "metadata": {},
          "execution_count": 164
        }
      ]
    },
    {
      "cell_type": "code",
      "metadata": {
        "id": "-0fhaWf7lN7e"
      },
      "source": [
        "#post_data_exp.pivot(index= \"regularityactivity\", columns='educationclass', values= regul)"
      ],
      "execution_count": null,
      "outputs": []
    },
    {
      "cell_type": "code",
      "metadata": {
        "id": "iespGQsQmaPM"
      },
      "source": [
        ""
      ],
      "execution_count": null,
      "outputs": []
    }
  ]
}